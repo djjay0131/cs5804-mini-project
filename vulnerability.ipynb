{
  "nbformat": 4,
  "nbformat_minor": 0,
  "metadata": {
    "colab": {
      "provenance": [],
      "gpuType": "T4",
      "include_colab_link": true
    },
    "kernelspec": {
      "name": "python3",
      "display_name": "Python 3"
    },
    "language_info": {
      "name": "python"
    },
    "accelerator": "GPU"
  },
  "cells": [
    {
      "cell_type": "markdown",
      "metadata": {
        "id": "view-in-github",
        "colab_type": "text"
      },
      "source": [
        "<a href=\"https://colab.research.google.com/github/djjay0131/cs5804-mini-project/blob/master/vulnerability.ipynb\" target=\"_parent\"><img src=\"https://colab.research.google.com/assets/colab-badge.svg\" alt=\"Open In Colab\"/></a>"
      ]
    },
    {
      "cell_type": "code",
      "source": [
        "%%capture\n",
        "!pip install gdown"
      ],
      "metadata": {
        "id": "5VFBof8xtuTF"
      },
      "execution_count": null,
      "outputs": []
    },
    {
      "cell_type": "code",
      "source": [],
      "metadata": {
        "id": "hF_gK-FqHujC"
      },
      "execution_count": null,
      "outputs": []
    },
    {
      "cell_type": "code",
      "source": [
        "import pandas as pd\n",
        "import io\n",
        "import zipfile\n",
        "import gdown\n",
        "import torch\n",
        "from tqdm import tqdm\n",
        "import numpy as np\n",
        "\n",
        "from transformers import AutoTokenizer\n",
        "\n",
        "import string\n",
        "import re\n",
        "\n",
        "from tensorflow.keras.preprocessing.text import Tokenizer\n",
        "from tensorflow.keras.preprocessing.sequence import pad_sequences\n",
        "from tensorflow.keras.utils import to_categorical\n",
        "\n",
        "from keras.models import Sequential\n",
        "from keras.layers import LSTM, RepeatVector, TimeDistributed, Dense\n",
        "from keras.utils import plot_model\n",
        "\n",
        "from sklearn.model_selection import train_test_split\n"
      ],
      "metadata": {
        "id": "ubVWaV4cmjZG"
      },
      "execution_count": null,
      "outputs": []
    },
    {
      "cell_type": "code",
      "execution_count": null,
      "metadata": {
        "id": "0uUUwZcxQUDN"
      },
      "outputs": [],
      "source": [
        "# from google.colab import drive\n",
        "\n",
        "# drive.mount('/content/gdrive/')"
      ]
    },
    {
      "cell_type": "code",
      "source": [
        "CVE_fixes_sharedPath = 'https://drive.google.com/file/d/13HqfT79hp0xr_JwNvwIwNGhszhX5ObMV/view?usp=sharing'\n",
        "output_path = 'CVEFixes.csv.zip'\n",
        "gdown.download(CVE_fixes_sharedPath, output_path, quiet=False, fuzzy=True)"
      ],
      "metadata": {
        "id": "h78I1loJt3fc"
      },
      "execution_count": null,
      "outputs": []
    },
    {
      "cell_type": "code",
      "source": [
        "# data_path = '/content/drive/MyDrive/Fall 2023/CS5804/cs-5804-mini-project/data'\n",
        "data_path = output_path"
      ],
      "metadata": {
        "id": "zLFTy6fJpQ8J"
      },
      "execution_count": null,
      "outputs": []
    },
    {
      "cell_type": "code",
      "source": [
        "# !ls '/content/drive/MyDrive/Fall 2023/CS5804/cs-5804-mini-project/data'\n",
        "!ls"
      ],
      "metadata": {
        "colab": {
          "base_uri": "https://localhost:8080/"
        },
        "id": "Xs72z3N-juF4",
        "outputId": "a76ff83f-4feb-461b-f07e-088860fecf52"
      },
      "execution_count": null,
      "outputs": [
        {
          "output_type": "stream",
          "name": "stdout",
          "text": [
            "CVEFixes.csv.zip  lstm_autoencoder.png\tsample_data\n"
          ]
        }
      ]
    },
    {
      "cell_type": "code",
      "source": [
        "# zip_file = data_path + '/CVEFixes.csv.zip'\n",
        "zip_file = data_path\n",
        "zip_ref = zipfile.ZipFile(zip_file, 'r')\n",
        "zip_ref.extractall(\"/tmp\")\n",
        "zip_ref.close()"
      ],
      "metadata": {
        "id": "fyrcSCD7pNIs"
      },
      "execution_count": null,
      "outputs": []
    },
    {
      "cell_type": "code",
      "source": [
        "!ls '/tmp'"
      ],
      "metadata": {
        "colab": {
          "base_uri": "https://localhost:8080/"
        },
        "id": "zuy2MQxbpyWk",
        "outputId": "0ea0db07-17c7-4f7e-dfef-cd0aa1d93e43"
      },
      "execution_count": null,
      "outputs": [
        {
          "output_type": "stream",
          "name": "stdout",
          "text": [
            "__autograph_generated_file27s28xhl.py\n",
            "__autograph_generated_file311wx2io.py\n",
            "__autograph_generated_fileabj3c29h.py\n",
            "__autograph_generated_filega2kumr_.py\n",
            "__autograph_generated_fileim44cnox.py\n",
            "__autograph_generated_fileo7dmsjm_.py\n",
            "CVEFixes.csv\n",
            "dap_multiplexer.236716539e4d.root.log.INFO.20231126-184758.104\n",
            "dap_multiplexer.INFO\n",
            "debugger_2dxjb90n95\n",
            "initgoogle_syslog_dir.0\n",
            "language_service.236716539e4d.root.log.ERROR.20231126-185449.1241\n",
            "language_service.236716539e4d.root.log.ERROR.20231126-200918.18314\n",
            "language_service.236716539e4d.root.log.ERROR.20231126-201305.21497\n",
            "language_service.236716539e4d.root.log.ERROR.20231126-205856.27837\n",
            "language_service.236716539e4d.root.log.ERROR.20231126-222222.33489\n",
            "language_service.236716539e4d.root.log.INFO.20231126-185155.1115\n",
            "language_service.236716539e4d.root.log.INFO.20231126-185208.1201\n",
            "language_service.236716539e4d.root.log.INFO.20231126-185213.1241\n",
            "language_service.236716539e4d.root.log.INFO.20231126-195959.18314\n",
            "language_service.236716539e4d.root.log.INFO.20231126-201233.21480\n",
            "language_service.236716539e4d.root.log.INFO.20231126-201234.21497\n",
            "language_service.236716539e4d.root.log.INFO.20231126-202515.24782\n",
            "language_service.236716539e4d.root.log.INFO.20231126-203709.27837\n",
            "language_service.236716539e4d.root.log.INFO.20231126-205856.33407\n",
            "language_service.236716539e4d.root.log.INFO.20231126-205912.33489\n",
            "language_service.236716539e4d.root.log.INFO.20231126-235848.79298\n",
            "language_service.236716539e4d.root.log.INFO.20231127-001135.82760\n",
            "language_service.236716539e4d.root.log.WARNING.20231126-185449.1241\n",
            "language_service.236716539e4d.root.log.WARNING.20231126-200918.18314\n",
            "language_service.236716539e4d.root.log.WARNING.20231126-201305.21497\n",
            "language_service.236716539e4d.root.log.WARNING.20231126-205856.27837\n",
            "language_service.236716539e4d.root.log.WARNING.20231126-222222.33489\n",
            "language_service.ERROR\n",
            "language_service.INFO\n",
            "language_service.WARNING\n",
            "__pycache__\n",
            "pyright-1120-E6u7a6dMU9NL\n",
            "pyright-1207-1nvI5rEAguuL\n",
            "pyright-1246-e1qpDQ1Pz8wf\n",
            "pyright-1246-hGOch5ES3hg7\n",
            "pyright-18319-AiR8iBiJ0eIv\n",
            "pyright-21507-120sArz8zjNi\n",
            "pyright-24787-APYeACz6rsz3\n",
            "pyright-24787-I9Y2T7i5RRTk\n",
            "pyright-27842-XboUVvwcuv5Y\n",
            "pyright-33412-jgoi28up60vr\n",
            "pyright-33495-vEq0i2UpbhuP\n",
            "pyright-79303-pH2Kra2ppwiM\n",
            "pyright-82765-2Tv55WF9YIcz\n",
            "pyright-82765-Ce3Afobfrtcd\n",
            "python-languageserver-cancellation\n"
          ]
        }
      ]
    },
    {
      "cell_type": "code",
      "source": [
        "df = pd.read_csv('/tmp/CVEFixes.csv')\n",
        "df.head()"
      ],
      "metadata": {
        "colab": {
          "base_uri": "https://localhost:8080/",
          "height": 206
        },
        "id": "SuyazT21mVy9",
        "outputId": "5c706944-134f-40ca-e299-ba8e16d55a5e"
      },
      "execution_count": null,
      "outputs": [
        {
          "output_type": "execute_result",
          "data": {
            "text/plain": [
              "                                                code language      safety\n",
              "0  package org.bouncycastle.jcajce.provider.asymm...     java  vulnerable\n",
              "1  <?php\\n\\n\\n\\n/**\\n\\n * ownCloud - user_ldap\\n\\...      php  vulnerable\n",
              "2  #!/usr/bin/env python\\n\\nfrom __future__ impor...       py        safe\n",
              "3  /* -*- c-basic-offset: 8 -*-\\n\\n   rdesktop: A...        c        safe\n",
              "4  <!DOCTYPE html>\\n\\n<html>\\n\\n    <head>\\n\\n   ...     html        safe"
            ],
            "text/html": [
              "\n",
              "  <div id=\"df-e9dc21db-0e3b-4369-9d4c-4efe0deb7ec1\" class=\"colab-df-container\">\n",
              "    <div>\n",
              "<style scoped>\n",
              "    .dataframe tbody tr th:only-of-type {\n",
              "        vertical-align: middle;\n",
              "    }\n",
              "\n",
              "    .dataframe tbody tr th {\n",
              "        vertical-align: top;\n",
              "    }\n",
              "\n",
              "    .dataframe thead th {\n",
              "        text-align: right;\n",
              "    }\n",
              "</style>\n",
              "<table border=\"1\" class=\"dataframe\">\n",
              "  <thead>\n",
              "    <tr style=\"text-align: right;\">\n",
              "      <th></th>\n",
              "      <th>code</th>\n",
              "      <th>language</th>\n",
              "      <th>safety</th>\n",
              "    </tr>\n",
              "  </thead>\n",
              "  <tbody>\n",
              "    <tr>\n",
              "      <th>0</th>\n",
              "      <td>package org.bouncycastle.jcajce.provider.asymm...</td>\n",
              "      <td>java</td>\n",
              "      <td>vulnerable</td>\n",
              "    </tr>\n",
              "    <tr>\n",
              "      <th>1</th>\n",
              "      <td>&lt;?php\\n\\n\\n\\n/**\\n\\n * ownCloud - user_ldap\\n\\...</td>\n",
              "      <td>php</td>\n",
              "      <td>vulnerable</td>\n",
              "    </tr>\n",
              "    <tr>\n",
              "      <th>2</th>\n",
              "      <td>#!/usr/bin/env python\\n\\nfrom __future__ impor...</td>\n",
              "      <td>py</td>\n",
              "      <td>safe</td>\n",
              "    </tr>\n",
              "    <tr>\n",
              "      <th>3</th>\n",
              "      <td>/* -*- c-basic-offset: 8 -*-\\n\\n   rdesktop: A...</td>\n",
              "      <td>c</td>\n",
              "      <td>safe</td>\n",
              "    </tr>\n",
              "    <tr>\n",
              "      <th>4</th>\n",
              "      <td>&lt;!DOCTYPE html&gt;\\n\\n&lt;html&gt;\\n\\n    &lt;head&gt;\\n\\n   ...</td>\n",
              "      <td>html</td>\n",
              "      <td>safe</td>\n",
              "    </tr>\n",
              "  </tbody>\n",
              "</table>\n",
              "</div>\n",
              "    <div class=\"colab-df-buttons\">\n",
              "\n",
              "  <div class=\"colab-df-container\">\n",
              "    <button class=\"colab-df-convert\" onclick=\"convertToInteractive('df-e9dc21db-0e3b-4369-9d4c-4efe0deb7ec1')\"\n",
              "            title=\"Convert this dataframe to an interactive table.\"\n",
              "            style=\"display:none;\">\n",
              "\n",
              "  <svg xmlns=\"http://www.w3.org/2000/svg\" height=\"24px\" viewBox=\"0 -960 960 960\">\n",
              "    <path d=\"M120-120v-720h720v720H120Zm60-500h600v-160H180v160Zm220 220h160v-160H400v160Zm0 220h160v-160H400v160ZM180-400h160v-160H180v160Zm440 0h160v-160H620v160ZM180-180h160v-160H180v160Zm440 0h160v-160H620v160Z\"/>\n",
              "  </svg>\n",
              "    </button>\n",
              "\n",
              "  <style>\n",
              "    .colab-df-container {\n",
              "      display:flex;\n",
              "      gap: 12px;\n",
              "    }\n",
              "\n",
              "    .colab-df-convert {\n",
              "      background-color: #E8F0FE;\n",
              "      border: none;\n",
              "      border-radius: 50%;\n",
              "      cursor: pointer;\n",
              "      display: none;\n",
              "      fill: #1967D2;\n",
              "      height: 32px;\n",
              "      padding: 0 0 0 0;\n",
              "      width: 32px;\n",
              "    }\n",
              "\n",
              "    .colab-df-convert:hover {\n",
              "      background-color: #E2EBFA;\n",
              "      box-shadow: 0px 1px 2px rgba(60, 64, 67, 0.3), 0px 1px 3px 1px rgba(60, 64, 67, 0.15);\n",
              "      fill: #174EA6;\n",
              "    }\n",
              "\n",
              "    .colab-df-buttons div {\n",
              "      margin-bottom: 4px;\n",
              "    }\n",
              "\n",
              "    [theme=dark] .colab-df-convert {\n",
              "      background-color: #3B4455;\n",
              "      fill: #D2E3FC;\n",
              "    }\n",
              "\n",
              "    [theme=dark] .colab-df-convert:hover {\n",
              "      background-color: #434B5C;\n",
              "      box-shadow: 0px 1px 3px 1px rgba(0, 0, 0, 0.15);\n",
              "      filter: drop-shadow(0px 1px 2px rgba(0, 0, 0, 0.3));\n",
              "      fill: #FFFFFF;\n",
              "    }\n",
              "  </style>\n",
              "\n",
              "    <script>\n",
              "      const buttonEl =\n",
              "        document.querySelector('#df-e9dc21db-0e3b-4369-9d4c-4efe0deb7ec1 button.colab-df-convert');\n",
              "      buttonEl.style.display =\n",
              "        google.colab.kernel.accessAllowed ? 'block' : 'none';\n",
              "\n",
              "      async function convertToInteractive(key) {\n",
              "        const element = document.querySelector('#df-e9dc21db-0e3b-4369-9d4c-4efe0deb7ec1');\n",
              "        const dataTable =\n",
              "          await google.colab.kernel.invokeFunction('convertToInteractive',\n",
              "                                                    [key], {});\n",
              "        if (!dataTable) return;\n",
              "\n",
              "        const docLinkHtml = 'Like what you see? Visit the ' +\n",
              "          '<a target=\"_blank\" href=https://colab.research.google.com/notebooks/data_table.ipynb>data table notebook</a>'\n",
              "          + ' to learn more about interactive tables.';\n",
              "        element.innerHTML = '';\n",
              "        dataTable['output_type'] = 'display_data';\n",
              "        await google.colab.output.renderOutput(dataTable, element);\n",
              "        const docLink = document.createElement('div');\n",
              "        docLink.innerHTML = docLinkHtml;\n",
              "        element.appendChild(docLink);\n",
              "      }\n",
              "    </script>\n",
              "  </div>\n",
              "\n",
              "\n",
              "<div id=\"df-877f7c6b-4ea5-47f3-941d-56651ee32e03\">\n",
              "  <button class=\"colab-df-quickchart\" onclick=\"quickchart('df-877f7c6b-4ea5-47f3-941d-56651ee32e03')\"\n",
              "            title=\"Suggest charts\"\n",
              "            style=\"display:none;\">\n",
              "\n",
              "<svg xmlns=\"http://www.w3.org/2000/svg\" height=\"24px\"viewBox=\"0 0 24 24\"\n",
              "     width=\"24px\">\n",
              "    <g>\n",
              "        <path d=\"M19 3H5c-1.1 0-2 .9-2 2v14c0 1.1.9 2 2 2h14c1.1 0 2-.9 2-2V5c0-1.1-.9-2-2-2zM9 17H7v-7h2v7zm4 0h-2V7h2v10zm4 0h-2v-4h2v4z\"/>\n",
              "    </g>\n",
              "</svg>\n",
              "  </button>\n",
              "\n",
              "<style>\n",
              "  .colab-df-quickchart {\n",
              "      --bg-color: #E8F0FE;\n",
              "      --fill-color: #1967D2;\n",
              "      --hover-bg-color: #E2EBFA;\n",
              "      --hover-fill-color: #174EA6;\n",
              "      --disabled-fill-color: #AAA;\n",
              "      --disabled-bg-color: #DDD;\n",
              "  }\n",
              "\n",
              "  [theme=dark] .colab-df-quickchart {\n",
              "      --bg-color: #3B4455;\n",
              "      --fill-color: #D2E3FC;\n",
              "      --hover-bg-color: #434B5C;\n",
              "      --hover-fill-color: #FFFFFF;\n",
              "      --disabled-bg-color: #3B4455;\n",
              "      --disabled-fill-color: #666;\n",
              "  }\n",
              "\n",
              "  .colab-df-quickchart {\n",
              "    background-color: var(--bg-color);\n",
              "    border: none;\n",
              "    border-radius: 50%;\n",
              "    cursor: pointer;\n",
              "    display: none;\n",
              "    fill: var(--fill-color);\n",
              "    height: 32px;\n",
              "    padding: 0;\n",
              "    width: 32px;\n",
              "  }\n",
              "\n",
              "  .colab-df-quickchart:hover {\n",
              "    background-color: var(--hover-bg-color);\n",
              "    box-shadow: 0 1px 2px rgba(60, 64, 67, 0.3), 0 1px 3px 1px rgba(60, 64, 67, 0.15);\n",
              "    fill: var(--button-hover-fill-color);\n",
              "  }\n",
              "\n",
              "  .colab-df-quickchart-complete:disabled,\n",
              "  .colab-df-quickchart-complete:disabled:hover {\n",
              "    background-color: var(--disabled-bg-color);\n",
              "    fill: var(--disabled-fill-color);\n",
              "    box-shadow: none;\n",
              "  }\n",
              "\n",
              "  .colab-df-spinner {\n",
              "    border: 2px solid var(--fill-color);\n",
              "    border-color: transparent;\n",
              "    border-bottom-color: var(--fill-color);\n",
              "    animation:\n",
              "      spin 1s steps(1) infinite;\n",
              "  }\n",
              "\n",
              "  @keyframes spin {\n",
              "    0% {\n",
              "      border-color: transparent;\n",
              "      border-bottom-color: var(--fill-color);\n",
              "      border-left-color: var(--fill-color);\n",
              "    }\n",
              "    20% {\n",
              "      border-color: transparent;\n",
              "      border-left-color: var(--fill-color);\n",
              "      border-top-color: var(--fill-color);\n",
              "    }\n",
              "    30% {\n",
              "      border-color: transparent;\n",
              "      border-left-color: var(--fill-color);\n",
              "      border-top-color: var(--fill-color);\n",
              "      border-right-color: var(--fill-color);\n",
              "    }\n",
              "    40% {\n",
              "      border-color: transparent;\n",
              "      border-right-color: var(--fill-color);\n",
              "      border-top-color: var(--fill-color);\n",
              "    }\n",
              "    60% {\n",
              "      border-color: transparent;\n",
              "      border-right-color: var(--fill-color);\n",
              "    }\n",
              "    80% {\n",
              "      border-color: transparent;\n",
              "      border-right-color: var(--fill-color);\n",
              "      border-bottom-color: var(--fill-color);\n",
              "    }\n",
              "    90% {\n",
              "      border-color: transparent;\n",
              "      border-bottom-color: var(--fill-color);\n",
              "    }\n",
              "  }\n",
              "</style>\n",
              "\n",
              "  <script>\n",
              "    async function quickchart(key) {\n",
              "      const quickchartButtonEl =\n",
              "        document.querySelector('#' + key + ' button');\n",
              "      quickchartButtonEl.disabled = true;  // To prevent multiple clicks.\n",
              "      quickchartButtonEl.classList.add('colab-df-spinner');\n",
              "      try {\n",
              "        const charts = await google.colab.kernel.invokeFunction(\n",
              "            'suggestCharts', [key], {});\n",
              "      } catch (error) {\n",
              "        console.error('Error during call to suggestCharts:', error);\n",
              "      }\n",
              "      quickchartButtonEl.classList.remove('colab-df-spinner');\n",
              "      quickchartButtonEl.classList.add('colab-df-quickchart-complete');\n",
              "    }\n",
              "    (() => {\n",
              "      let quickchartButtonEl =\n",
              "        document.querySelector('#df-877f7c6b-4ea5-47f3-941d-56651ee32e03 button');\n",
              "      quickchartButtonEl.style.display =\n",
              "        google.colab.kernel.accessAllowed ? 'block' : 'none';\n",
              "    })();\n",
              "  </script>\n",
              "</div>\n",
              "    </div>\n",
              "  </div>\n"
            ]
          },
          "metadata": {},
          "execution_count": 39
        }
      ]
    },
    {
      "cell_type": "code",
      "source": [
        "df.describe()"
      ],
      "metadata": {
        "id": "-T_hjwEaqaDf",
        "outputId": "0516da42-9bd5-4e67-f654-a14c2bf307b7",
        "colab": {
          "base_uri": "https://localhost:8080/",
          "height": 175
        }
      },
      "execution_count": null,
      "outputs": [
        {
          "output_type": "execute_result",
          "data": {
            "text/plain": [
              "                  code language      safety\n",
              "count            31160    31194       31194\n",
              "unique           23557       48           2\n",
              "top     404: Not Found        c  vulnerable\n",
              "freq              1447     8632       15597"
            ],
            "text/html": [
              "\n",
              "  <div id=\"df-46119346-9774-4dbc-be82-530e2826ced7\" class=\"colab-df-container\">\n",
              "    <div>\n",
              "<style scoped>\n",
              "    .dataframe tbody tr th:only-of-type {\n",
              "        vertical-align: middle;\n",
              "    }\n",
              "\n",
              "    .dataframe tbody tr th {\n",
              "        vertical-align: top;\n",
              "    }\n",
              "\n",
              "    .dataframe thead th {\n",
              "        text-align: right;\n",
              "    }\n",
              "</style>\n",
              "<table border=\"1\" class=\"dataframe\">\n",
              "  <thead>\n",
              "    <tr style=\"text-align: right;\">\n",
              "      <th></th>\n",
              "      <th>code</th>\n",
              "      <th>language</th>\n",
              "      <th>safety</th>\n",
              "    </tr>\n",
              "  </thead>\n",
              "  <tbody>\n",
              "    <tr>\n",
              "      <th>count</th>\n",
              "      <td>31160</td>\n",
              "      <td>31194</td>\n",
              "      <td>31194</td>\n",
              "    </tr>\n",
              "    <tr>\n",
              "      <th>unique</th>\n",
              "      <td>23557</td>\n",
              "      <td>48</td>\n",
              "      <td>2</td>\n",
              "    </tr>\n",
              "    <tr>\n",
              "      <th>top</th>\n",
              "      <td>404: Not Found</td>\n",
              "      <td>c</td>\n",
              "      <td>vulnerable</td>\n",
              "    </tr>\n",
              "    <tr>\n",
              "      <th>freq</th>\n",
              "      <td>1447</td>\n",
              "      <td>8632</td>\n",
              "      <td>15597</td>\n",
              "    </tr>\n",
              "  </tbody>\n",
              "</table>\n",
              "</div>\n",
              "    <div class=\"colab-df-buttons\">\n",
              "\n",
              "  <div class=\"colab-df-container\">\n",
              "    <button class=\"colab-df-convert\" onclick=\"convertToInteractive('df-46119346-9774-4dbc-be82-530e2826ced7')\"\n",
              "            title=\"Convert this dataframe to an interactive table.\"\n",
              "            style=\"display:none;\">\n",
              "\n",
              "  <svg xmlns=\"http://www.w3.org/2000/svg\" height=\"24px\" viewBox=\"0 -960 960 960\">\n",
              "    <path d=\"M120-120v-720h720v720H120Zm60-500h600v-160H180v160Zm220 220h160v-160H400v160Zm0 220h160v-160H400v160ZM180-400h160v-160H180v160Zm440 0h160v-160H620v160ZM180-180h160v-160H180v160Zm440 0h160v-160H620v160Z\"/>\n",
              "  </svg>\n",
              "    </button>\n",
              "\n",
              "  <style>\n",
              "    .colab-df-container {\n",
              "      display:flex;\n",
              "      gap: 12px;\n",
              "    }\n",
              "\n",
              "    .colab-df-convert {\n",
              "      background-color: #E8F0FE;\n",
              "      border: none;\n",
              "      border-radius: 50%;\n",
              "      cursor: pointer;\n",
              "      display: none;\n",
              "      fill: #1967D2;\n",
              "      height: 32px;\n",
              "      padding: 0 0 0 0;\n",
              "      width: 32px;\n",
              "    }\n",
              "\n",
              "    .colab-df-convert:hover {\n",
              "      background-color: #E2EBFA;\n",
              "      box-shadow: 0px 1px 2px rgba(60, 64, 67, 0.3), 0px 1px 3px 1px rgba(60, 64, 67, 0.15);\n",
              "      fill: #174EA6;\n",
              "    }\n",
              "\n",
              "    .colab-df-buttons div {\n",
              "      margin-bottom: 4px;\n",
              "    }\n",
              "\n",
              "    [theme=dark] .colab-df-convert {\n",
              "      background-color: #3B4455;\n",
              "      fill: #D2E3FC;\n",
              "    }\n",
              "\n",
              "    [theme=dark] .colab-df-convert:hover {\n",
              "      background-color: #434B5C;\n",
              "      box-shadow: 0px 1px 3px 1px rgba(0, 0, 0, 0.15);\n",
              "      filter: drop-shadow(0px 1px 2px rgba(0, 0, 0, 0.3));\n",
              "      fill: #FFFFFF;\n",
              "    }\n",
              "  </style>\n",
              "\n",
              "    <script>\n",
              "      const buttonEl =\n",
              "        document.querySelector('#df-46119346-9774-4dbc-be82-530e2826ced7 button.colab-df-convert');\n",
              "      buttonEl.style.display =\n",
              "        google.colab.kernel.accessAllowed ? 'block' : 'none';\n",
              "\n",
              "      async function convertToInteractive(key) {\n",
              "        const element = document.querySelector('#df-46119346-9774-4dbc-be82-530e2826ced7');\n",
              "        const dataTable =\n",
              "          await google.colab.kernel.invokeFunction('convertToInteractive',\n",
              "                                                    [key], {});\n",
              "        if (!dataTable) return;\n",
              "\n",
              "        const docLinkHtml = 'Like what you see? Visit the ' +\n",
              "          '<a target=\"_blank\" href=https://colab.research.google.com/notebooks/data_table.ipynb>data table notebook</a>'\n",
              "          + ' to learn more about interactive tables.';\n",
              "        element.innerHTML = '';\n",
              "        dataTable['output_type'] = 'display_data';\n",
              "        await google.colab.output.renderOutput(dataTable, element);\n",
              "        const docLink = document.createElement('div');\n",
              "        docLink.innerHTML = docLinkHtml;\n",
              "        element.appendChild(docLink);\n",
              "      }\n",
              "    </script>\n",
              "  </div>\n",
              "\n",
              "\n",
              "<div id=\"df-545c0b27-4fb6-4386-872b-94c32d64d8e3\">\n",
              "  <button class=\"colab-df-quickchart\" onclick=\"quickchart('df-545c0b27-4fb6-4386-872b-94c32d64d8e3')\"\n",
              "            title=\"Suggest charts\"\n",
              "            style=\"display:none;\">\n",
              "\n",
              "<svg xmlns=\"http://www.w3.org/2000/svg\" height=\"24px\"viewBox=\"0 0 24 24\"\n",
              "     width=\"24px\">\n",
              "    <g>\n",
              "        <path d=\"M19 3H5c-1.1 0-2 .9-2 2v14c0 1.1.9 2 2 2h14c1.1 0 2-.9 2-2V5c0-1.1-.9-2-2-2zM9 17H7v-7h2v7zm4 0h-2V7h2v10zm4 0h-2v-4h2v4z\"/>\n",
              "    </g>\n",
              "</svg>\n",
              "  </button>\n",
              "\n",
              "<style>\n",
              "  .colab-df-quickchart {\n",
              "      --bg-color: #E8F0FE;\n",
              "      --fill-color: #1967D2;\n",
              "      --hover-bg-color: #E2EBFA;\n",
              "      --hover-fill-color: #174EA6;\n",
              "      --disabled-fill-color: #AAA;\n",
              "      --disabled-bg-color: #DDD;\n",
              "  }\n",
              "\n",
              "  [theme=dark] .colab-df-quickchart {\n",
              "      --bg-color: #3B4455;\n",
              "      --fill-color: #D2E3FC;\n",
              "      --hover-bg-color: #434B5C;\n",
              "      --hover-fill-color: #FFFFFF;\n",
              "      --disabled-bg-color: #3B4455;\n",
              "      --disabled-fill-color: #666;\n",
              "  }\n",
              "\n",
              "  .colab-df-quickchart {\n",
              "    background-color: var(--bg-color);\n",
              "    border: none;\n",
              "    border-radius: 50%;\n",
              "    cursor: pointer;\n",
              "    display: none;\n",
              "    fill: var(--fill-color);\n",
              "    height: 32px;\n",
              "    padding: 0;\n",
              "    width: 32px;\n",
              "  }\n",
              "\n",
              "  .colab-df-quickchart:hover {\n",
              "    background-color: var(--hover-bg-color);\n",
              "    box-shadow: 0 1px 2px rgba(60, 64, 67, 0.3), 0 1px 3px 1px rgba(60, 64, 67, 0.15);\n",
              "    fill: var(--button-hover-fill-color);\n",
              "  }\n",
              "\n",
              "  .colab-df-quickchart-complete:disabled,\n",
              "  .colab-df-quickchart-complete:disabled:hover {\n",
              "    background-color: var(--disabled-bg-color);\n",
              "    fill: var(--disabled-fill-color);\n",
              "    box-shadow: none;\n",
              "  }\n",
              "\n",
              "  .colab-df-spinner {\n",
              "    border: 2px solid var(--fill-color);\n",
              "    border-color: transparent;\n",
              "    border-bottom-color: var(--fill-color);\n",
              "    animation:\n",
              "      spin 1s steps(1) infinite;\n",
              "  }\n",
              "\n",
              "  @keyframes spin {\n",
              "    0% {\n",
              "      border-color: transparent;\n",
              "      border-bottom-color: var(--fill-color);\n",
              "      border-left-color: var(--fill-color);\n",
              "    }\n",
              "    20% {\n",
              "      border-color: transparent;\n",
              "      border-left-color: var(--fill-color);\n",
              "      border-top-color: var(--fill-color);\n",
              "    }\n",
              "    30% {\n",
              "      border-color: transparent;\n",
              "      border-left-color: var(--fill-color);\n",
              "      border-top-color: var(--fill-color);\n",
              "      border-right-color: var(--fill-color);\n",
              "    }\n",
              "    40% {\n",
              "      border-color: transparent;\n",
              "      border-right-color: var(--fill-color);\n",
              "      border-top-color: var(--fill-color);\n",
              "    }\n",
              "    60% {\n",
              "      border-color: transparent;\n",
              "      border-right-color: var(--fill-color);\n",
              "    }\n",
              "    80% {\n",
              "      border-color: transparent;\n",
              "      border-right-color: var(--fill-color);\n",
              "      border-bottom-color: var(--fill-color);\n",
              "    }\n",
              "    90% {\n",
              "      border-color: transparent;\n",
              "      border-bottom-color: var(--fill-color);\n",
              "    }\n",
              "  }\n",
              "</style>\n",
              "\n",
              "  <script>\n",
              "    async function quickchart(key) {\n",
              "      const quickchartButtonEl =\n",
              "        document.querySelector('#' + key + ' button');\n",
              "      quickchartButtonEl.disabled = true;  // To prevent multiple clicks.\n",
              "      quickchartButtonEl.classList.add('colab-df-spinner');\n",
              "      try {\n",
              "        const charts = await google.colab.kernel.invokeFunction(\n",
              "            'suggestCharts', [key], {});\n",
              "      } catch (error) {\n",
              "        console.error('Error during call to suggestCharts:', error);\n",
              "      }\n",
              "      quickchartButtonEl.classList.remove('colab-df-spinner');\n",
              "      quickchartButtonEl.classList.add('colab-df-quickchart-complete');\n",
              "    }\n",
              "    (() => {\n",
              "      let quickchartButtonEl =\n",
              "        document.querySelector('#df-545c0b27-4fb6-4386-872b-94c32d64d8e3 button');\n",
              "      quickchartButtonEl.style.display =\n",
              "        google.colab.kernel.accessAllowed ? 'block' : 'none';\n",
              "    })();\n",
              "  </script>\n",
              "</div>\n",
              "    </div>\n",
              "  </div>\n"
            ]
          },
          "metadata": {},
          "execution_count": 40
        }
      ]
    },
    {
      "cell_type": "code",
      "source": [
        "df['language'].value_counts()"
      ],
      "metadata": {
        "colab": {
          "base_uri": "https://localhost:8080/"
        },
        "id": "uACN9hSY1UMv",
        "outputId": "70d6b825-9530-438f-9b54-107cc009701b"
      },
      "execution_count": null,
      "outputs": [
        {
          "output_type": "execute_result",
          "data": {
            "text/plain": [
              "c           8632\n",
              "Other       6122\n",
              "php         5590\n",
              "py          1564\n",
              "js          1562\n",
              "h           1344\n",
              "java        1162\n",
              "rb          1120\n",
              "cpp          626\n",
              "go           464\n",
              "cc           360\n",
              "html         266\n",
              "xml          252\n",
              "cs           220\n",
              "json         220\n",
              "tpl          170\n",
              "pm           144\n",
              "sh           132\n",
              "phpt         102\n",
              "ts           100\n",
              "m             70\n",
              "inc           62\n",
              "scala         60\n",
              "ctp           58\n",
              "cxx           54\n",
              "t             50\n",
              "jsp           50\n",
              "jelly         44\n",
              "yml           44\n",
              "yaml          38\n",
              "coffee        34\n",
              "pl            34\n",
              "spec          32\n",
              "tt            32\n",
              "rs            32\n",
              "scss          32\n",
              "htaccess      32\n",
              "S             32\n",
              "as            30\n",
              "conf          30\n",
              "vim           28\n",
              "hh            26\n",
              "lua           26\n",
              "sql           24\n",
              "css           24\n",
              "cgi           22\n",
              "phtml         22\n",
              "htm           20\n",
              "Name: language, dtype: int64"
            ]
          },
          "metadata": {},
          "execution_count": 42
        }
      ]
    },
    {
      "cell_type": "code",
      "source": [
        "torch.cuda.is_available()\n",
        "device = torch.device(\"cuda:0\")"
      ],
      "metadata": {
        "id": "wErGu5CQ1bn3"
      },
      "execution_count": null,
      "outputs": []
    },
    {
      "cell_type": "code",
      "source": [
        "tqdm.pandas()"
      ],
      "metadata": {
        "id": "CpozD7i1CTtZ"
      },
      "execution_count": null,
      "outputs": []
    },
    {
      "cell_type": "markdown",
      "source": [
        "## Uncomment the line below to run only sample"
      ],
      "metadata": {
        "id": "LcN2aNO9M7I-"
      }
    },
    {
      "cell_type": "code",
      "source": [
        "df_copy = df.copy()\n",
        "# df_copy = df.iloc[:100, :].copy()\n",
        "\n",
        "df_copy.shape"
      ],
      "metadata": {
        "colab": {
          "base_uri": "https://localhost:8080/"
        },
        "id": "9KCqosVJbWhP",
        "outputId": "143ed74f-bbee-44ba-ce6b-0b23454cf424"
      },
      "execution_count": null,
      "outputs": [
        {
          "output_type": "execute_result",
          "data": {
            "text/plain": [
              "(31194, 3)"
            ]
          },
          "metadata": {},
          "execution_count": 93
        }
      ]
    },
    {
      "cell_type": "code",
      "source": [
        "# removing punctuations, spaces, etc - might not be needed. Will try both ways and see.\n",
        "df_copy['code'] = df_copy['code'].progress_apply(lambda x: str(x))\n",
        "\n",
        "\n",
        "# tokenize and encode\n",
        "tokenizer = AutoTokenizer.from_pretrained('bert-base-cased')\n",
        "def tokenize_function(code):\n",
        "  tokens = tokenizer.tokenize(code)\n",
        "  token_ids = tokenizer.convert_tokens_to_ids(tokens)\n",
        "  return token_ids\n",
        "  # return tokenizer.encode(code, truncation=True, padding=\"max_length\", max_length=512)\n",
        "\n",
        "def ids_to_tokens(token_ids):\n",
        "    return tokenizer.convert_ids_to_tokens(token_ids)\n",
        "\n",
        "# Function to join tokens back into a string\n",
        "def tokens_to_string(tokens):\n",
        "    return tokenizer.convert_tokens_to_string(tokens)\n",
        "\n",
        "\n",
        "df_copy['code_tokenIDs']=df_copy['code'].progress_apply(lambda x: tokenize_function(x))\n",
        "\n"
      ],
      "metadata": {
        "colab": {
          "base_uri": "https://localhost:8080/"
        },
        "id": "VpsjQLLy-OSY",
        "outputId": "23ca2a41-9c00-49fd-bf95-7a2b2826ff6c"
      },
      "execution_count": null,
      "outputs": [
        {
          "output_type": "stream",
          "name": "stderr",
          "text": [
            "100%|██████████| 100/100 [00:00<00:00, 68792.91it/s]\n",
            "  0%|          | 0/100 [00:00<?, ?it/s]Token indices sequence length is longer than the specified maximum sequence length for this model (935 > 512). Running this sequence through the model will result in indexing errors\n",
            "100%|██████████| 100/100 [00:02<00:00, 39.46it/s]\n"
          ]
        }
      ]
    },
    {
      "cell_type": "code",
      "source": [
        "df_copy['code_tokenIDs']"
      ],
      "metadata": {
        "colab": {
          "base_uri": "https://localhost:8080/"
        },
        "id": "b_Myg5DY-xXl",
        "outputId": "127b6c7e-df3c-4277-aeae-6cd711587c3e"
      },
      "execution_count": null,
      "outputs": [
        {
          "output_type": "execute_result",
          "data": {
            "text/plain": [
              "0     [7305, 8916, 119, 171, 6094, 7232, 26487, 119,...\n",
              "1     [133, 136, 185, 16194, 120, 115, 115, 115, 131...\n",
              "2     [108, 106, 120, 1366, 1197, 120, 9055, 120, 40...\n",
              "3     [120, 115, 118, 115, 118, 172, 118, 3501, 118,...\n",
              "4     [133, 106, 141, 9244, 16880, 2101, 2036, 28066...\n",
              "                            ...                        \n",
              "95    [1383, 113, 138, 12152, 3048, 2240, 168, 5833,...\n",
              "96                            [27993, 131, 1753, 17107]\n",
              "97    [133, 136, 185, 16194, 120, 115, 115, 22359, 1...\n",
              "98    [120, 115, 115, 115, 115, 115, 115, 115, 115, ...\n",
              "99    [120, 115, 115, 23232, 2101, 131, 1760, 7249, ...\n",
              "Name: code_tokenIDs, Length: 100, dtype: object"
            ]
          },
          "metadata": {},
          "execution_count": 58
        }
      ]
    },
    {
      "cell_type": "code",
      "source": [
        "# check that id conversion worked\n",
        "ids = df_copy['code_tokenIDs'][80]\n",
        "decoded_string = tokenizer.decode(ids)\n",
        "print(decoded_string)"
      ],
      "metadata": {
        "colab": {
          "base_uri": "https://localhost:8080/"
        },
        "id": "sjzz0zs-AC9G",
        "outputId": "85091c92-8f66-4e1a-9917-305aa7fb7a3c"
      },
      "execution_count": null,
      "outputs": [
        {
          "output_type": "stream",
          "name": "stdout",
          "text": [
            "# Changelog # # # Major Changes - Version 4 * * New Functions * * - ` chassis ( ) ` : chassis information * * Breaking Changes * * - ` networkStats ( ) ` : will provide an * * array * * of stats for all given interfaces. In previous versions only one interface was provided as a parameter. Pass'*'for all interfaces - ` networkStats ( ) ` : ` rx ` and ` tx ` changed to ` rx _ bytes ` and ` tx _ bytes ` - ` dockerContainerStats ( ) ` : will provide an * * array * * of stats for all given docker containers. In previous versions only one interface was provided as a parameter. Pass'*'for all docker containers * * Other Changes * * - ` system ( ) ` optimized system detection ( e. g. new Raspberry Pi models,... ) - ` system ( ) `, ` bios ( ) `, ` baseboard ( ) ` information also as non - root ( linux ) - ` graphics ( ) ` better controller and display detection, fixes - ` versions ( ) ` optimization, fixes - ` networkInterfaces ( ) ` added ` operstate `, ` type `, ` duplex `, ` mtu `, ` speed `, ` carrierChanges ` - ` networkStats ( ) ` added stats for ` errors `, ` dropped ` - added TypeScript definitions * * Be aware * *, that the new version 4. x is * * NOT fully backward compatible * * to version 3. x... For major ( breaking ) changes - version 3 and 2 see end of page. # # Version history | Version | Date | Comment | | - - - - - - - - - - - - - - | - - - - - - - - - - - - - - | - - - - - - - - | | 4. 31. 1 | 2020 - 12 - 11 | ` inetLatency ( ) ` command injection vulnaribility fix | | 4. 31. 0 | 2020 - 12 - 06 | ` osInfo ( ) ` added FQDN | | 4. 30. 11 | 2020 - 12 - 02 | ` cpu ( ) ` bug fix speed parsing | | 4. 30. 10 | 2020 - 12 - 01 | ` cpu ( ) ` handled speed parsing error ( Apple Silicon ) | | 4. 30. 9 | 2020 - 12 - 01 | ` cpu ( ) ` corrected processor names ( Raspberry Pi ) | | 4. 30. 8 | 2020 - 11 - 30 | ` fsSize ( ) ` catch error ( mac OS ) | | 4. 30. 7 | 2020 - 11 - 29 | ` cpuTemperature ( ) ` rewrite hwmon parsing | | 4. 30. 6 | 2020 - 11 - 27 | wmic added default windows path ( windows ) | | 4. 30. 5 | 2020 - 11 - 26 | adapted security update ( prototype pollution prevention ) | | 4. 30. 4 | 2020 - 11 - 25 | reverted Object. freeze because it broke some projects | | 4. 30. 3 | 2020 - 11 - 25 | security update ( prototype pollution prevention ) Object. freeze | | 4. 30. 2 | 2020 - 11 - 25 | security update ( prototype pollution prevention ) | | 4. 30. 1 | 2020 - 11 - 12 | updated docs | | 4. 30. 0 | 2020 - 11 - 12 | ` get ( ) ` possibility to provide params | | 4. 29. 3 | 2020 - 11 - 09 | ` blockdevices ( ) ` catch errors adapted for just one line | | 4. 29. 2 | 2020 - 11 - 09 | ` blockdevices ( ) ` catch errors | | 4. 29. 1 | 2020 - 11 - 08 | ` cpu ( ) `, ` system ( ) ` better parsing Raspberry Pi revision codes | | 4. 29. 0 | 2020 - 11 - 08 | ` fsSize ( ) ` correct fs type detection macOS ( HFS, APFS, NFS ) | | 4. 28. 1 | 2020 - 11 - 05 | code cleanup, removing debug console. log ( ) | | 4. 28. 0 | 2020 - 11 - 04 | ` graphics ( ) ` added deviceName ( windows ) | | 4. 27. 11 | 2020 - 10 - 26 | ` inetChecksite ( ) ` fixed vulnerability : command injection | | 4. 27. 10 | 2020 - 10 - 16 | ` dockerContainers ( ) ` resolved hanging issue | | 4. 27. 9 | 2020 - 10 - 13 | ` networkInterfaces ( ) ` loopback internal detection ( windows ) | | 4. 27. 8 | 2020 - 10 - 08 | windows codepages partial fix | | 4. 27. 7 | 2020 - 10 - 05 | updated typescript typings, minor fixes | | 4. 27. 6 | 2020 - 10 - 02 | ` get ( ) ` fixed when results are in arrays | | 4. 27. 5 | 2020 - 09 - 18 | ` cpuTemperature ( ) ` fix try catch ( linux ) | | 4. 27. 4 | 2020 - 09 - 16 | ` networkInterfaceDefault ( ) ` optimization ( macOS ) | | 4. 27. 3 | 2020 - 08 - 26 | updated typescript typings | | 4. 27. 2 | 2020 - 08 - 26 | fixed issue breaking node v4 compatibility | | 4. 27. 1 | 2020 - 08 - 25 | ` networkStats ( ) ` fixed packages dropped ( linux ) | | 4. 27. 0 | 2020 - 08 - 24 | ` observe ( ) ` added function to observe / watch system parameters | | 4. 26. 12 | 2020 - 08 - 21 | ` versions ( ) ` fixed issue windows | | 4. 26. 11 | 2020 - 08 - 20 | ` cpuTemperature ( ) ` fixed issue windows | | 4. 26. 10 | 2020 - 07 - 16 | ` networkStats ( ) ` fixed issue blocking windows | | 4. 26. 9 | 2020 - 06 - 06 | ` networkStats ( ) ` fixed comparison issue windows | | 4. 26. 8 | 2020 - 06 - 06 | ` networkInterfaces ( ) ` fixed caching issue | | 4. 26. 7 | 2020 - 06 - 06 | ` cpuTemperature ( ) ` fixed raspberry pi sensors issue | | 4. 26. 6 | 2020 - 06 - 03 | ` diskLayout ( ) ` fixed issue linux | | 4. 26. 5 | 2020 - 05 - 27 | ` cpuTemperature ( ) ` optimizes scanning AMD linux sensors | | 4. 26. 4 | 2020 - 05 - 21 | ` cpuTemperature ( ) ` fix ( BSD ), code cleanup | | 4. 26. 3 | 2020 - 05 - 20 | updated documentation ( macOS temperature ) | | 4. 26. 2 | 2020 - 05 - 19 | ` processes ( ) ` memory leak fix | | 4. 26. 1 | 2020 - 05 - 13 | code cleanup | | 4. 26. 0 | 2020 - 05 - 12 | ` diskLayout ( ) ` added full smart data where supported | | 4. 25. 2 | 2020 - 05 - 12 | ` getDynamicData ( ) ` added wifiNetworks ( ) | | 4. 25. 1 | 2020 - 05 - 07 | ` get ( ) ` minor bounds test fix, updated docs | | 4. 25. 0 | 2020 - 05 - 07 | ` get ( ) ` added function to get partial system info | | 4. 24. 2 | 2020 - 05 - 06 | ` cpu ( ) ` fix ( BSD ), ` networkStats ( ) ` fix BSD | | 4. 24. 1 | 2020 - 05 - 03 | ` processes ( ) ` fix parsing command and params | | 4. 24. 0 | 2020 - 05 - 01 | ` networkInterfaces ( ) ` added subnet mask ip4 and ip6 | | 4. 23. 10 | 2020 - 05 - 01 | ` cpuTemperature ( ) ` optimized parsing linux | | 4. 23. 9 | 2020 - 04 - 29 | ` currentLoad ( ) ` workarround for no os. cpus info | | 4. 23. 8 | 2020 - 04 - 26 | ` getMacAddresses ( ) ` fix added try catch | | 4. 23. 7 | 2020 - 04 - 26 | ` getCpuCurrentSpeedSync ( ) ` workarround fix | | 4. 23. 6 | 2020 - 04 - 25 | ` networkGatewayDefault ( ) ` bug fix no interfaces | | 4. 23. 5 | 2020 - 04 - 20 | updated docs | | 4. 23. 4 | 2020 - 04 - 20 | ` users ( ) ` optimized parseDateTime function | | 4. 23. 3 | 2020 - 04 - 09 | refactored to avoid ` cat ` | | 4. 23. 2 | 2020 - 04 - 08 | ` cpu ( ) ` fixed getting base frequency for AMD Ryzen | | 4. 23. 1 | 2020 - 03 - 11 | ` diskLayout ( ) ` optimized detection linux | | 4. 23. 0 | 2020 - 03 - 08 | ` versions ( ) ` added param to specify which program / lib versions to detect | | 4. 22. 7 | 2020 - 03 - 08 | ` diskLayout ( ) ` fixed linux | | 4. 22. 6 | 2020 - 03 - 08 | ` network ( ) ` fixed DHCP linux | | 4. 22. 5 | 2020 - 03 - 04 | ` graphics ( ) ` fixed vram macOS | | 4. 22. 4 | 2020 - 03 - 01 | ` versions ( ) ` added dotnet, typings fix | | 4. 22. 3 | 2020 - 02 - 20 | ` memLayout ( ) ` code cleanup | | 4. 22. 2 | 2020 - 02 - 19 | ` memLayout ( ) ` raspberry PI mem voltage fix | | 4. 22. 1 | 2020 - 02 - 17 | ` memLayout ( ) ` raspberry PI support | | 4. 22. 0 | 2020 - 02 - 17 | ` services ( ) ` added pids ( windows ) | | 4. 21. 3 | 2020 - 02 - 16 | ` versions ( ) ` fixed mysql version ( macOS ) | | 4. 21. 2 | 2020 - 02 - 11 | ` networkConnections ( ) ` fixed linux ( debian ) issue | | 4. 21. 1 | 2020 - 01 - 31 | ` networkGatewayDefault ( ) ` fixed windows 7 issue | | 4. 21. 0 | 2020 - 01 - 27 | ` npx ` compatibility | | 4. 20. 1 | 2020 - 01 - 26 | ` battery ( ) ` code refactoring, cleanup, updated docs | | 4. 20. 1 | 2020 - 01 - 26 | ` battery ( ) ` code refactoring, cleanup, updated docs | | 4. 20. 0 | 2020 - 01 - 25 | ` battery ( ) ` added designcapacity, voltage, unit | | 4. 19. 4 | 2020 - 01 - 24 | ` mem ( ) ` prevent log messages, ` memgetDefaultNetworkInterface ( ) ` catch errors | | 4. 19. 3 | 2020 - 01 - 24 | ` memLayout ( ) ` bank info fix macOS | | 4. 19. 2 | 2020 - 01 - 19 | ` cpu ( ) ` muli - processor fix windows | | 4. 19. 1 | 2020 - 01 - 14 | ` osInfo ( ) ` uefi fix windows | | 4. 19. 0 | 2020 - 01 - 12 | ` osInfo ( ) ` added uefi | | 4. 18. 3 | 2020 - 01 - 10 | ` fsSize ( ) ` fix excluding loop / snap devices | | 4. 18. 2 | 2020 - 01 - 10 | ` memLayout ( ) ` fix memsize linux ( modules > = 32 GB ) | | 4. 18. 1 | 2020 - 01 - 07 | updated docs | | 4. 18. 0 | 2020 - 01 - 07 | ` networkInterfaces ( ) ` added dhcp for mac os, added dhcp linux fallback | | 4. 17. 3 | 2020 - 01 - 05 | code cleanup | | 4. 17. 2 | 2020 - 01 - 05 | ` cpu ( ). speed ` AMD base frequency and fix ( 0. 00 ) | | 4. 17. 1 | 2020 - 01 - 04 | ` fsSize ( ) ` alpine linux support | | 4. 17. 0 | 2020 - 01 - 04 | ` networkInterfaces ( ) ` added dhcp, dnsSuffix, ieee8021xAuth, ieee8021xState | | 4. 16. 1 | 2020 - 01 - 02 | ` networkInterfaces ( ) ` bug fix ( osx ) | | 4. 16. 0 | 2019 - 11 - 27 | ` networkGatewayDefault ( ) ` added | | 4. 15. 3 | 2019 - 11 - 10 | type definitions and docs update | | 4. 15. 2 | 2019 - 11 - 10 | ` mem ( ) ` improved calculation linux | | 4. 15. 1 | 2019 - 11 - 10 | ` diskLayout ( ) ` added support for older lsblk versions ( linux ) | | 4. 15. 0 | 2019 - 11 - 10 | ` cpu ( ) ` added governor ( linux ) | | 4. 14. 17 | 2019 - 10 - 22 | ` graphics ( ) ` improved display detection ( windows ) | | 4. 14. 16 | 2019 - 10 - 19 | ` graphics ( ) ` improved display detection ( windows ) | | 4. 14. 15 | 2019 - 10 - 18 | ` graphics ( ) ` fallback display detection ( windows ) | | 4. 14. 14 | 2019 - 10 - 18 | ` powerShell ( ) ` fixed error handling ( windows ) | | 4. 14. 13 | 2019 - 10 - 15 | ` networkConnections ( ) ` fixed parsing ( linux ) | | 4. 14. 12 | 2019 - 10 - 14 | ` getCpu ( ) ` fixed multi socket detection ( linux ) | | 4. 14. 11 | 2019 - 10 - 01 | type definitions fix dockerInfo | | 4. 14. 10 | 2019 - 10 - 01 | type definitions fix memLayout | | 4. 14. 9 | 2019 - 10 - 01 | ` processLoad ( ) ` fix windows | | 4. 14. 8 | 2019 - 08 - 22 | ` parseDateTime ( ) ` fix coding error | | 4. 14. 7 | 2019 - 08 - 22 | ` battery ( ) ` windows acconnected improvement | | 4. 14. 6 | 2019 - 08 - 22 | ` users ( ) ` improved date time parsing | | 4. 14. 5 | 2019 - 08 - 22 | ` fsSize ( ) ` fix windows result as number | | 4. 14. 4 | 2019 - 07 - 20 | ` verions ( ) ` fix pip, pip3 | | 4. 14. 3 | 2019 - 07 - 09 | ` system ( ) ` sku fix windows | | 4. 14. 2 | 2019 - 07 - 07 | ` networkConnections ( ) ` pid linux fix NAN | | 4. 14. 1 | 2019 - 07 - 04 | ` graphics ( ) ` added display position windows | | 4. 14. 0 | 2019 - 07 - 03 | ` processes ( ) ` added process path and params | | 4. 13. 2 | 2019 - 07 - 02 | ` versions ( ) ` fix getting all versions | | 4. 13. 1 | 2019 - 07 - 01 | ` versions ( ) ` gcc fix macos | | 4. 13. 0 | 2019 - 07 - 01 | ` networkConnections ( ) ` added PID and process | | 4. 12. 2 | 2019 - 06 - 24 | ` system ( ) ` added Raspberry PI 4 detection | | 4. 12. 1 | 2019 - 06 - 24 | ` networkInterface ( ) ` virtual interfaces macos, ` networkInterfaceDefault ( ) ` | | 4. 12. 0 | 2019 - 06 - 21 | ` networkInterface ( ) ` added property virtual | | 4. 11. 6 | 2019 - 06 - 19 | ` util ` bug fix | | 4. 11. 5 | 2019 - 06 - 19 | ` dockerAll ( ) ` bug fix | | 4. 11. 4 | 2019 - 06 - 17 | type definitions bug fix | | 4. 11. 3 | 2019 - 06 - 16 | ` graphics ( ) ` optimization windows | | 4. 11. 2 | 2019 - 06 - 16 | ` wifiNetworks ( ) ` bug fixes | | 4. 11. 1 | 2019 - 06 - 15 | updated docs | | 4. 11. 0 | 2019 - 06 - 14 | ` wifiNetworks ( ) ` added available wifi networks | | 4. 10. 0 | 2019 - 06 - 14 | ` graphics ( ) ` windows multiple display support | | 4. 9. 2 | 2019 - 06 - 12 | type definitions bug fix | | 4. 9. 1 | 2019 - 06 - 11 | ` networkStats ( ) ` bug fix windows | | 4. 9. 0 | 2019 - 06 - 03 | ` graphics ( ) ` added vendor, refresh rate, current res | | 4. 8. 4 | 2019 - 06 - 03 | ` vboxInfo ( ) ` fixed call parameters | | 4. 8. 3 | 2019 - 06 - 01 | ` vboxInfo ( ) ` added stoppedSince, started, stopped | | 4. 8. 2 | 2019 - 05 - 31 | ` dockerInfo ( ) ` changed property naming style | | 4. 8. 1 | 2019 - 05 - 31 | updated docs | | 4. 8. 0 | 2019 - 05 - 31 | added ` vboxInfo ( ) ` detailed virtual box info | | 4. 7. 3 | 2019 - 05 - 30 | updated typescript typings | | 4. 7. 2 | 2019 - 05 - 30 | ` versions ( ) ` added virtualbox, java popup fix macos | | 4. 7. 1 | 2019 - 05 - 29 | ` memLayout ( ) ` fix macos mojave | | 4. 7. 0 | 2019 - 05 - 29 | partial netBSD support | | 4. 6. 1 | 2019 - 05 - 29 | get wmic path - fic windows | | 4. 6. 0 | 2019 - 05 - 27 | added ` dockerInfo ( ) ` | | 4. 5. 1 | 2019 - 05 - 17 | updated docs | | 4. 5. 0 | 2019 - 05 - 17 | ` fsOpenFiles ( ) ` added open file descriptor count | | 4. 4. 1 | 2019 - 05 - 11 | updated docs | | 4. 4. 0 | 2019 - 05 - 11 | ` dockerContainers ( ) ` added started, finished time | | 4. 3. 0 | 2019 - 05 - 09 | ` dockerContainers ( ) ` ` dockerStats ( ) ` added restartCount | | 4. 2. 1 | 2019 - 05 - 09 | ` networkInterfaceDefault ( ) ` time delay fix ( linux ) | | 4. 2. 0 | 2019 - 05 - 09 | ` osInfo ( ) ` extended service pack version ( windows ) | | 4. 1. 8 | 2019 - 05 - 09 | ` graphics ( ) ` resolve on error ( windows ) | | 4. 1. 7 | 2019 - 05 - 09 | ` users ( ) ` parsing fix ( windows ) | | 4. 1. 6 | 2019 - 04 - 24 | ` memory ( ) ` swap used fix ( linux ) | | 4. 1. 5 | 2019 - 04 - 19 | refactored ` wmic ` calls to work also on Windows XP | | 4. 1. 4 | 2019 - 03 - 26 | ` networkInterfaces ( ) ` speed bug ( windows ) | | 4. 1. 3 | 2019 - 03 - 24 | wmic path detection ( windows ) | | 4. 1. 2 | 2019 - 03 - 23 | updated docs | | 4. 1. 1 | 2019 - 03 - 13 | updated typescript typings | | 4. 1. 0 | 2019 - 03 - 13 | ` versions ( ) ` added pip, pip3 | | 4. 0. 16 | 2019 - 03 - 12 | Happy birthday - 5th aniversary | | 4. 0. 15 | 2019 - 03 - 02 | ` versions ( ) ` added java, python3, optimized gcc | | 4. 0. 14 | 2019 - 03 - 01 | updated typescript typings | | 4. 0. 13 | 2019 - 03 - 01 | ` diskLayout ( ) ` added device ( / dev / sda... ) linux, mac | | 4. 0. 12 | 2019 - 03 - 01 | ` diskLayout ( ) ` linux rewritten - better detection | | 4. 0. 11 | 2019 - 02 - 23 | ` users ( ) ` fix windows ( time ), added @ ts - check | | 4. 0. 10 | 2019 - 02 - 10 | ` networkInterfaceDefault ( ) ` fix windows | | 4. 0. 9 | 2019 - 02 - 08 | ` cpu ( ) ` fix, code cleanup | | 4. 0. 8 | 2019 - 02 - 05 | ` inetLatency ( ) ` Windows fix parse chinese output | | 4. 0. 7 | 2019 - 02 - 05 | ` inetLatency ( ) ` Windows fix | | 4. 0. 6 | 2019 - 02 - 04 | powershell catch error | | 4. 0. 5 | 2019 - 02 - 03 | updated docs | | 4. 0. 4 | 2019 - 02 - 03 | code cleanup, updated docs | | 4. 0. 3 | 2019 - 02 - 03 | ` networkInterfaces ( ), chassis ( ) ` fixed two more issues | | 4. 0. 2 | 2019 - 02 - 03 | ` networkInterfaces ( ), chassis ( ) ` fixed smaller issues | | 4. 0. 1 | 2019 - 02 - 02 | updated docs | | 4. 0. 0 | 2019 - 02 - 02 | new major version | | 3. 54. 0 | 2018 - 12 - 30 | added TypeScript type definitions | | 3. 53. 1 | 2018 - 12 - 29 | ` versions ( ) ` bug fix nginx version | | 3. 53. 0 | 2018 - 12 - 29 | ` versions ( ) ` added perl, python, gcc | | 3. 52. 7 | 2018 - 12 - 29 | ` versions ( ) ` bug fix macOS detection | | 3. 52. 6 | 2018 - 12 - 28 | ` versions ( ) ` bug fix macOS | | 3. 52. 5 | 2018 - 12 - 28 | preparing automated tests, travis - ci integration, added dev - dependencies | | 3. 52. 4 | 2018 - 12 - 27 | ` graphics ( ). controllers ` bugfix linux | | 3. 52. 3 | 2018 - 12 - 27 | ` os ( ). codepage ` bugfix | | 3. 52. 2 | 2018 - 12 - 17 | code cleanup | | 3. 52. 1 | 2018 - 12 - 17 | ` inetChecksite ( ) ` bugfix windows | | 3. 52. 0 | 2018 - 12 - 15 | ` cpu ( ) ` added physical cores, processors, socket type | | 3. 51. 4 | 2018 - 12 - 05 | ` versions ( ) ` bugfix, optimization postgres | | 3. 51. 3 | 2018 - 11 - 27 | ` mem ( ) ` refactoring parsing linux, code cleanup | | 3. 51. 2 | 2018 - 11 - 26 | ` mem ( ) ` bugfix parsing ` free ` output linux | | 3. 51. 1 | 2018 - 11 - 26 | ` processLoad ( ) ` bugfix windows | | 3. 51. 0 | 2018 - 11 - 25 | ` processLoad ( ) ` added for windows | | 3. 50. 3 | 2018 - 11 - 25 | ` processLoad ( ) `, ` services ( ) ` fixed cpu data ( linux ) | | 3. 50. 2 | 2018 - 11 - 23 | network mac adresses : ip support fix | | 3. 50. 1 | 2018 - 11 - 23 | ` services ( ) ` added possibility to specify ALL services \" * \" for win | | 3. 50. 0 | 2018 - 11 - 23 | ` services ( ) ` added possibility to specify ALL services \" * \" for linux | | 3. 49. 4 | 2018 - 11 - 21 | ` battery ( ) ` timeremaining optimization ( linux ) thanks to Jorai Rijsdijk | | 3. 49. 3 | 2018 - 11 - 20 | ` memLayout ( ) ` optimized parsing ( win ) | | 3. 49. 2 | 2018 - 11 - 19 | code cleanup | | 3. 49. 1 | 2018 - 11 - 19 | ` cpu ( ). brand ` removed extra spaces, tabs | | 3. 49. 0 | 2018 - 11 - 19 | added system ` uuid ( ) ` ( os specific ), ` versions ( ) ` added postgresql | | 3. 48. 4 | 2018 - 11 - 18 | windows : garbled output because of codepage | | 3. 48. 3 | 2018 - 11 - 18 | ` dockerContainerStats ( ) ` fixed issue ` cpu _ percent ` win | | 3. 48. 2 | 2018 - 11 - 18 | ` dockerContainerStats ( ) ` fixed issue ` cpu _ percent `, win exec | | 3. 48. 1 | 2018 - 11 - 17 | ` docker... ( ) ` fixed issue parsing docker socket JSON | | 3. 48. 0 | 2018 - 11 - 17 | ` diskLayout ( ) ` better interface detection ( WIN ), ` osInfo ( ) ` added build, serial | | 3. 47. 0 | 2018 - 11 - 06 | ` versions ( ) ` added docker, postfix | | 3. 46. 0 | 2018 - 11 - 05 | fixed issue ` versions ( ) `, added system openssl version | | 3. 45. 10 | 2018 - 11 - 03 | fixed issue ` battery ( ) `, modified ` package. json ` - files | | 3. 45. 9 | 2018 - 10 - 22 | fixed node 4 incompatibility | | 3. 45. 8 | 2018 - 10 - 22 | ` system ( ) ` fix Raspberry Pi detection | | 3. 45. 7 | 2018 - 10 - 05 | fixed typos | | 3. 45. 6 | 2018 - 09 - 12 | ` mem ( ) ` bug parsing linux in other languages | | 3. 45. 5 | 2018 - 09 - 07 | ` diskLayout ( ) ` tiny bug S. M. A. R. T status windows | | 3. 45. 4 | 2018 - 09 - 06 | added icon to README. md | | 3. 45. 3 | 2018 - 09 - 06 | ` diskLayout ( ) ` optimized media type detection ( HD, SSD ) on Windows | | 3. 45. 2 | 2018 - 09 - 05 | updated imags shields icons | | 3. 45. 1 | 2018 - 09 - 05 | updated documentation | | 3. 45. 0 | 2018 - 09 - 04 | ` diskLayout ( ) ` added smartStatus | | 3. 44. 2 | 2018 - 08 - 28 | added code quality badges | | 3. 44. 1 | 2018 - 08 - 28 | code cleanup | | 3. 44. 0 | 2018 - 08 - 25 | ` battery ( ) ` bugfix & added type, model, manufacturer, serial | | 3. 43. 0 | 2018 - 08 - 25 | ` cpuCurrentspeed ( ) ` added cpu speed for all cores | | 3. 42. 10 | 2018 - 08 - 25 | ` processes ( ) ` optimized start time parsing | | 3. 42. 9 | 2018 - 08 - 08 | ` cpuTemperature ( ) ` optimized parsing | | 3. 42. 8 | 2018 - 08 - 03 | updated docs | | 3. 42. 7 | 2018 - 08 - 03 | ` processes ( ) ` optimized parsing ps name | | 3. 42. 6 | 2018 - 08 - 03 | ` processes ( ) ` bugfix parsing ps linux | | 3. 42. 5 | 2018 - 08 - 03 | ` processes ( ) ` bugfix parsing ps linux | | 3. 42. 4 | 2018 - 07 - 09 | ` cpuTemperature ( ) ` bugfix parsing negative values | | 3. 42. 3 | 2018 - 07 - 05 | ` services ( ) ` bugfix not finding services with capital letters | | 3. 42. 2 | 2018 - 07 - 03 | ` users ( ) ` optimized results if lack of permissions | | 3. 42. 1 | 2018 - 07 - 03 | ` versions ( ) ` bugfix git version macOS | | 3. 42. 0 | 2018 - 06 - 01 | ` processes ( ) ` added parent process PID | | 3. 41. 4 | 2018 - 05 - 28 | windows exec WMIC path detection ( windows ) in try catch | | 3. 41. 3 | 2018 - 05 - 13 | improved SunOS support ` getStaticData ( ) `, ` getDynamicData ( ) ` | | 3. 41. 2 | 2018 - 05 - 13 | bugfix ` system ( ) ` and ` flags ( ) ` Raspberry Pi | | 3. 41. 1 | 2018 - 05 - 11 | updated docs | | 3. 41. 0 | 2018 - 05 - 11 | ` system ( ) ` Raspberry Pi bugfix and extended detection, added partial ` SunOS ` support | | 3. 40. 1 | 2018 - 05 - 10 | bugfix ` system ( ). sku ` ( windows ) | | 3. 40. 0 | 2018 - 04 - 29 | extended ` versions ( ) ` ( php, redis, mongodb ) | | 3. 39. 0 | 2018 - 04 - 29 | added ` versions ( ). mysql ` and ` versions ( ). nginx `, starting ` SunOS ` support ( untested ) | | 3. 38. 0 | 2018 - 04 - 06 | added ` battery ( ). acconnected ` | | 3. 37. 12 | 2018 - 04 - 05 | another optimization ` battery ( ). ischarging ` for macOS | | 3. 37. 11 | 2018 - 04 - 05 | another optimization ` battery ( ). ischarging ` for macOS | | 3. 37. 10 | 2018 - 04 - 05 | ` battery ( ). ischarging ` optimized for macOS | | 3. 37. 9 | 2018 - 04 - 03 | optimized ` processes ( ) `, bugfix ` networkInterfaceDefault ( ) ` | | 3. 37. 8 | 2018 - 03 - 25 | optimized ` networkDefaultInterface ( ) ` detection, fixed network ` operstate ` MacOS | | 3. 37. 7 | 2018 - 03 - 13 | celebrating 4th birthday | | 3. 37. 6 | 2018 - 03 - 12 | updated docs : fixed ` diskLayout ` and ` mamlayout ` | | 3. 37. 5 | 2018 - 03 - 12 | added support for ` ip ` instead of ` ifconfig ` | | 3. 37. 4 | 2018 - 02 - 22 | bugfix windows ` processes ( ) `, ` disklayout ( ) ` | | 3. 37. 3 | 2018 - 02 - 19 | added windows exec ` windowsHide ` option | | 3. 37. 2 | 2018 - 02 - 15 | fixed bug ` battery ( ). percent ` for macOS | | 3. 37. 1 | 2018 - 02 - 13 | fixed bug ` battery ( ). ischarging ` for macOS | | 3. 37. 0 | 2018 - 02 - 11 | extended FreeBSD support ` networkStats ( ) ` | | 3. 36. 0 | 2018 - 02 - 11 | extended FreeBSD support ` networkConnections ( ) ` | | 3. 35. 0 | 2018 - 02 - 11 | extended FreeBSD support ` processLoad ( ) ` | | 3. 34. 1 | 2018 - 02 - 11 | updated docs | | 3. 34. 0 | 2018 - 02 - 10 | first partial FreeBSD support | | 3. 33. 15 | 2018 - 01 - 21 | optimized OSX battery | | 3. 33. 14 | 2018 - 01 - 17 | bugfix ` diskLayout ( ) ` ( Windows ) | | 3. 33. 13 | 2018 - 01 - 12 | bugfix ` memLayout ( ) ` ( Windows ) | | 3. 33. 12 | 2017 - 12 - 25 | fixed typos | | 3. 33. 11 | 2017 - 12 - 17 | updated docs | | 3. 33. 10 | 2017 - 12 - 14 | bugfix WMIC path detection ( windows ) blockDevice parse ( Windows 7 ) | | 3. 33. 9 | 2017 - 12 - 14 | bugfix WMIC path detection ( windows ) not found ( Windows ) | | 3. 33. 8 | 2017 - 12 - 02 | bugfix diskLayout ( ). size ( OSX ) | | 3. 33. 7 | 2017 - 11 - 28 | bugfix diskLayout ( ). size | | 3. 33. 6 | 2017 - 11 - 16 | bugfix diskLayout ( ). size | | 3. 33. 5 | 2017 - 11 - 09 | code cleanup | | 3. 33. 4 | 2017 - 11 - 09 | bugfix graphics controller win ( bytes ) | | 3. 33. 3 | 2017 - 11 - 08 | bugfix cpu speed arm - type | | 3. 33. 2 | 2017 - 11 - 08 | bugfix cpu speed arm | | 3. 33. 1 | 2017 - 11 - 07 | improved bios and main board information | | 3. 33. 0 | 2017 - 11 - 07 | added bios and main board information | | 3. 32. 4 | 2017 - 11 - 02 | AMD cpu base frequencies table also for windows | | 3. 32. 3 | 2017 - 11 - 02 | code cleanup, AMD cpu base frequencies table | | 3. 32. 2 | 2017 - 11 - 01 | bugfix JSON. parse error ` blockDevices ( ) ` | | 3. 32. 1 | 2017 - 10 - 23 | updated docs | | 3. 32. 0 | 2017 - 10 - 23 | extended ` memLayout ( ) ` - added manufacturer | | 3. 31. 4 | 2017 - 10 - 21 | updated ` README. md ` | | 3. 31. 3 | 2017 - 10 - 21 | bugfix ` graphics ( ) `, fixed typo ` README. md ` | | 3. 31. 2 | 2017 - 10 - 16 | bugfix ` graphics ( ) ` vendor and model parsing linux VGA / 3D | | 3. 31. 1 | 2017 - 10 - 16 | bugfix ` graphics ( ) ` vendor and model parsing linux | | 3. 31. 0 | 2017 - 10 - 15 | extended windows support ` cpuFlags ( ) ` ( partially ) | | 3. 30. 6 | 2017 - 10 - 05 | updated community profile | | 3. 30. 5 | 2017 - 10 - 05 | bugfix ` users ( ) ` - parsing values on windows | | 3. 30. 4 | 2017 - 10 - 03 | bugfix ` cpuTemperature ( ) ` - parsing values on windows | | 3. 30. 3 | 2017 - 10 - 03 | bugfix ` cpuTemperature ( ) ` - max value on windows | | 3. 30. 2 | 2017 - 09 - 26 | bugfix ` networkInterfaces ( ) ` - optimized ip6 address selection | | 3. 30. 1 | 2017 - 09 - 21 | bugfix / typo ` inetChecksite ( ) ` | | 3. 30. 0 | 2017 - 09 - 21 | extended ` versions ( ) ` ( added ` yarn `, ` gulp `, ` grunt `, ` tsc `, ` git ` ) | | 3. 29. 0 | 2017 - 09 - 15 | extended windows support ` services ( ) `, optimized ` diskLayout ( ) ` ( OSX ), bugfixes | | 3. 28. 0 | 2017 - 09 - 14 | extended windows support ` processes ( ) ` | | 3. 27. 1 | 2017 - 09 - 13 | updated Raspberry version detection ` system ( ) ` ( Pi 3, Zero ) | | 3. 27. 0 | 2017 - 09 - 12 | added raw data to ` currentLoad ( ) `, fixed ` networkInterfaces ( ) ` MAC problem node 8. x | | 3. 26. 2 | 2017 - 09 - 01 | removed redundant code | | 3. 26. 1 | 2017 - 08 - 23 | fixed ` cpu ( ). speed ` windows / AMD, updated docs | | 3. 26. 0 | 2017 - 08 - 21 | extended ` getDynamicData ( ) ` ( windows ), updated docs | | 3. 25. 1 | 2017 - 08 - 07 | updated docs | | 3. 25. 0 | 2017 - 08 - 07 | improved windows support ` networkStats ( ) `, ` cpuCache ( ) `, bug fix ` getStaticData ( ) ` | | 3. 24. 0 | 2017 - 08 - 05 | extended windows support ` networkStats ( ) `, ` networkConnections ( ) ` | | 3. 23. 7 | 2017 - 07 - 11 | bug fix ` diskLayout ( ) ` | | 3. 23. 6 | 2017 - 07 - 11 | added ` cpuFlags ( ) ` to ` getStaticData ( ) `, bug fix ` graphics ( ) ` ( Win ) | | 3. 23. 5 | 2017 - 06 - 29 | bug fix ` inetChecksite ( ) ` | | 3. 23. 4 | 2017 - 06 - 24 | bug fix ` getDynamicData ( ), getAllData ( ) - mem ` | | 3. 23. 3 | 2017 - 06 - 23 | updated docs | | 3. 23. 2 | 2017 - 06 - 23 | bug fix ` battery ` ( windows ) | | 3. 23. 1 | 2017 - 06 - 22 | updated docs | | 3. 23. 0 | 2017 - 06 - 22 | added ` memLayout `, ` diskLayout `, extended windows support ( ` inetChecksite ` ) | | 3. 22. 0 | 2017 - 06 - 19 | extended windows support ( ` users `, ` inetLatency ` ) | | 3. 21. 0 | 2017 - 06 - 18 | extended time ( timezone ), extended windows support ( battery, getAll... ) | | 3. 20. 1 | 2017 - 06 - 17 | updated docs | | 3. 20. 0 | 2017 - 06 - 16 | extend WIN support ( cpu, cpuCache, cpuCurrentspeed, mem, networkInterfaces, docker ) | | 3. 19. 0 | 2017 - 06 - 12 | OSX temperature now an optional dependency | | 3. 18. 0 | 2017 - 05 - 27 | extended ` cpu ` info ( vendor, family, model, stepping, revision, cache, speedmin / max ) | | 3. 17. 3 | 2017 - 04 - 29 | minor fix ( blockDevices data array, Windows ) | | 3. 17. 2 | 2017 - 04 - 24 | minor fix ( removed console. log ) | | 3. 17. 1 | 2017 - 04 - 23 | fixed bugs fsSize ( win ), si. processes ( command ), si. osinfo ( win ) | | 3. 17. 0 | 2017 - 02 - 19 | windows support for some first functions, extended process list ( linux ) | | 3. 16. 0 | 2017 - 01 - 19 | blockDevices : added removable attribute + fix | | 3. 15. 1 | 2017 - 01 - 17 | minor cpuTemperature fix ( OSX ) | | 3. 15. 0 | 2017 - 01 - 15 | added cpuTemperature also for OSX | | 3. 14. 0 | 2017 - 01 - 14 | added currentLoad per cpu / core, cpu cache and cpu flags | | 3. 13. 0 | 2016 - 11 - 23 | added shell ( returns standard shell ) | | 3. 12. 0 | 2016 - 11 - 17 | refactoring and extended currentLoad | | 3. 11. 2 | 2016 - 11 - 16 | blockDevices : improved for older lsblk versions | | 3. 11. 1 | 2016 - 11 - 16 | fixed small bug in blockDevices | | 3. 11. 0 | 2016 - 11 - 15 | blockDevices for OSX and extended blockDevices | | 3. 10. 2 | 2016 - 11 - 14 | bug fix fsSize on OSX | | 3. 10. 1 | 2016 - 11 - 14 | optimization fsStats, disksIO, networkStats | | 3. 10. 0 | 2016 - 11 - 12 | added blockDevices, fixed fsSize, added file system type | | 3. 9. 0 | 2016 - 11 - 11 | added MAC address to networkInterfaces, fixed currentLoad | | 3. 8. 1 | 2016 - 11 - 04 | updated docs | | 3. 8. 0 | 2016 - 11 - 04 | added dockerContainerProcesses | | 3. 7. 1 | 2016 - 11 - 03 | code refactoring | | 3. 7. 0 | 2016 - 11 - 02 | extended docker stats, and no longer relying on curl | | 3. 6. 0 | 2016 - 09 - 14 | added versions ( kernel, ssl, node, npm, pm2,... ) | | 3. 5. 1 | 2016 - 09 - 14 | bugfix graphics info | | 3. 5. 0 | 2016 - 09 - 14 | added graphics info ( controller, display ) | | 3. 4. 4 | 2016 - 09 - 02 | tiny fixes system. model, getDefaultNetworkInterface | | 3. 4. 3 | 2016 - 09 - 02 | tiny bug fix fsStats, disksIO OSX | | 3. 4. 2 | 2016 - 09 - 01 | improved default network interface | | 3. 4. 1 | 2016 - 08 - 30 | updated docs | | 3. 4. 0 | 2016 - 08 - 30 | rewritten processes current cpu usage | | 3. 3. 0 | 2016 - 08 - 24 | process list added to processes | | 3. 2. 1 | 2016 - 08 - 19 | updated docs, improvement system | | 3. 2. 0 | 2016 - 08 - 19 | added battery information | | 3. 1. 1 | 2016 - 08 - 18 | improved system and os detection ( vm,... ), bugfix disksIO | | 3. 1. 0 | 2016 - 08 - 18 | added Docker stats | | 3. 0. 1 | 2016 - 08 - 17 | Bug - Fix disksIO, users, updated docs | | 3. 0. 0 | 2016 - 08 - 03 | new major version 3. 0 | | 2. 0. 5 | 2016 - 03 - 02 | changed. gitignore | | 2. 0. 4 | 2016 - 02 - 22 | tiny correction - removed double quotes CPU brand,... | | 2. 0. 3 | 2016 - 02 - 22 | optimized cpuCurrentspeed | | 2. 0. 2 | 2016 - 02 - 22 | added CoreOS identification | | 2. 0. 1 | 2016 - 01 - 07 | minor patch | | 2. 0. 0 | 2016 - 01 - 07 | new major version 2. 0 | | 1. 0. 7 | 2015 - 11 - 27 | fixed : si. network _ speed ( ) | | 1. 0. 6 | 2015 - 09 - 17 | fixed : si. users ( ) | | 1. 0. 5 | 2015 - 09 - 14 | updated dependencies | | 1. 0. 4 | 2015 - 07 - 18 | updated docs | | 1. 0. 3 | 2015 - 07 - 18 | bugfix cpu cores | | 1. 0. 2 | 2015 - 07 - 18 | bugfix cpu _ currentspeed, cpu _ temperature | | 1. 0. 1 | 2015 - 07 - 18 | documentation update | | 1. 0. 0 | 2015 - 07 - 18 | bug - fixes, version bump, published as npm component | | 0. 0. 3 | 2014 - 04 - 14 | bug - fix ( cpu _ speed ) | | 0. 0. 2 | 2014 - 03 - 14 | Optimization FS - Speed & CPU current speed | | 0. 0. 1 | 2014 - 03 - 13 | initial release | # # # Major ( breaking ) Changes - Version 3 - works only with [ node. js ] [ nodejs - url ] * * v4. 0. 0 * * and above ( using now internal ES6 promise function, arrow functions,... ) - * * Promises * *. As you can see in the documentation, you can now also use it in a promise oriented way. But callbacks are still supported. - * * Async / Await * *. Due to the promises support, systeminformation also works perfectly with the ` async / await ` pattern ( available in [ node. js ] [ nodejs - url ] * * v7. 6. 0 * * and above ). See example in the docs. - ` cpuCurrentspeed ` : now returns an object with current minimal, maximal and average CPU frequencies of all cores. - ` mem ` : now supports also newer versions of ` free ` ( Version 3. 3. 10 and above ) ; extended information ` avaliable ` ( potentially available memory ) - ` fsStats ` : added information sum bytes read + write ( tx ) and sum transfer rate / sec ( tx _ sec ) - ` networkInterfaces ` : now providing one more detail : internal - true if this is an internal interface like \" lo \" - ` networkConnections ` : instead of only counting sockets, you now get an array of objects with connection details for each socket ( protocol, local and peer address, state ) - ` users ` : now provides an array of objects with users online including detailed session information ( login date / time, ip address, terminal, command ) - ` inetLatency ` : now you can provide a host against which you want to test latency ( default is 8. 8. 8. 8 ) - ` getDynamicData ` : changed order of parameters ( callback - if provided - is now the last one ) : ` getDynamicData ( srv, network, callback ) ` - ` getAllData ` : changed order of parameters ( callback - if provided - is now the last one ) : ` getAllData ( srv, network, callback ) ` New Functions - FreeBSD support : for some basic functions ( new in version 3. 34 ff ) - ` diskLayout ` : returns hard disk layout ( new in version 3. 23 ) - ` memLayout ` : returns memory chip layout ( new in version 3. 23 ) - Windows support : for some basic functions ( new in version 3. 17 ff ) - ` cpuCache ` : returns CPU cache ( L1, L2, L3 ) sizes ( new in version 3. 14 ) - ` cpuFlags ` : returns CPU flags ( new in version 3. 14 ) - ` currentLoad. cpus ` : returns current load per cpu / core in an array ( new in version 3. 14 ) - ` shell ` : returns standard shell e. g. / bin / bash ( new in version 3. 13 ) - ` blockDevices ` : returns array of block devices like disks, partitions, raids, roms ( new in version 3. 10 ) - ` dockerContainerProcesses ` : returns processes for a specific docker container ( new in version 3. 8 ) - ` versions ` : returns object of versions - kernel, ssl, node, npm,... ( new in version 3. 6 ) - ` graphics ` : returns arrays of graphics controllers and displays ( new in version 3. 5 ) - ` networkInterfaceDefault ` : returns default network interface ( new in version 3. 4 ) - ` processes ` : now returns also a process list with all process details ( new in version 3. 3 ) - ` battery ` : retrieves battery status and charging level ( new in version 3. 2 ) - ` dockerContainers ` : returns a list of all docker containers ( new in version 3. 1 ) - ` dockerContainerStats ` : returns statistics for a specific docker container ( new in version 3. 1 ) - ` dockerAll ` : returns a list of all docker containers including their stats ( new in version 3. 1 ) - ` disksIO ` : returns overall diskIO and IOPS values for all mounted volumes ( new in version 3. 0 ) Bug Fixes / improvements - improvement ` cpuTemperature ` - works now also on Raspberry Pi - bugfix ` disksIO ` - on OSX read and write got mixed up - several bug fixes ( like assess errors in ` cpuCurrentspeed `, potentially incorrect results in ` users `,... ) - testet on even more platforms and linux distributions * * Be aware * *, that the new version 3. x is * * NOT fully backward compatible * * to version 2. x... # # # Major ( breaking ) Changes - Version 2 There had been a lot of changes in version 2 of systeminformation! Here is a quick overview ( for those who come from version 1 ) : New Functions - ` version ` : returns systeminformation version ( semver ) of this library - ` system ` : hardware info ( manufacturer, product / model name, version, serial, uuid ) - ` networkConnections ` : number of active connections - ` inetLatency ` : latency in ms to external resource ( internet ) - ` getStaticData ` : returns on json object with static data at once ( OS, CPU, Network Interfaces - they should not change until restarted ) - ` getDynamicData ` : returns on json object with all dynamic data at once ( e. g. for monitoring agents ) - ` getAllData ` : returns on json object with all data ( static and dynamic ) at once Renamed Functions ( now all camelCase ) - ` osinfo ` : renamed to ` osInfo ` - ` cpu _ currentspeed ` : renamed to ` cpuCurrentspeed ` - ` cpu _ temperature ` : renamed to ` cpuTemperature ` - ` fs _ size ` : renamed to ` fsSize ` - ` fs _ speed ` : renamed to ` fsStats ` - ` network _ interfaces ` : renamed to ` networkInterfaces ` - ` network _ speed ` : renamed to ` networkStats ` - ` network _ connections ` : renamed to ` networkConnections ` - ` currentload ` : renamed to ` currentLoad ` - ` fullload ` : renamed to ` fullLoad ` - ` processload ` : renamed to ` processLoad ` - ` checksite ` : renamed to ` inetChecksite ` Function Changes - ` cpu _ temperature ` / ` cpuTemperature ` : - 1 is new default ( and indicates that non sensors are installed ) - ` cpu _ temperature ` / ` cpuTemperature ` : new result ` max ` which returns max temperature of all cores - ` cpu _ currentspeed ` / ` cpuCurrentspeed ` : now in GHz - ` cpu ` : splitted ` manufacturer ` ( e. g. Intel ) and ` brand ` ( e. g. Core 2 Duo ) - ` network _ speed ` / ` networkStats ` : now better support for OS X ( also support for ` operstate ` ) - ` network _ speed ` / ` networkStats ` : overall received and transferred bytes ( rx, tx ) - ` mem ` : now better support for OS X ( also support for ` swaptotal `, ` swapused `, ` swapfree ` ) - ` fs _ size ` / ` fsSize ` : use - values now in % ( 0 - 100 % instead of 0 - 1 ) - ` fs _ speed ` / ` fsStats ` : now also full support for OS X - ` checksite ` / ` inetChecksite ` : new result structure - see command reference - ` checksite ` / ` inetChecksite ` : ms ( former ` response _ ms ` ) : - 1 if not ok Other changes - osx - temperature - sensor : now added as an optional dependency - no more external dependencies : ` request ` is not longer needed - where possible results are now integer or float values ( instead of strings ) because it is easier to calculate with numbers ; - ) [ nodejs - url ] : https : / / nodejs. org / en /\n"
          ]
        }
      ]
    },
    {
      "cell_type": "code",
      "source": [
        "# maximum sequence length - default value might be too large for now\n",
        "max_Length = max(df_copy['code'].progress_apply(lambda x: len(x)))\n",
        "print(max_Length)\n",
        "\n",
        "max_Length = 50\n",
        "\n",
        "padded_sequences = pad_sequences(df_copy['code_tokenIDs'], maxlen= max_Length, padding='post')\n",
        "\n",
        "# categorical labels\n",
        "label_dict = {'safe': 0, 'vulnerable': 1}\n",
        "numerical_labels = [label_dict[label] for label in df_copy['safety']]\n",
        "labels = to_categorical(numerical_labels)\n",
        "\n",
        "X= np.reshape(padded_sequences, (padded_sequences.shape[0], max_Length, 1))\n",
        "y= labels"
      ],
      "metadata": {
        "colab": {
          "base_uri": "https://localhost:8080/"
        },
        "id": "QTXyrePimY6_",
        "outputId": "7b03875a-9cf3-41c8-f22d-8630a853e53c"
      },
      "execution_count": null,
      "outputs": [
        {
          "output_type": "stream",
          "name": "stderr",
          "text": [
            "100%|██████████| 100/100 [00:00<00:00, 87199.67it/s]"
          ]
        },
        {
          "output_type": "stream",
          "name": "stdout",
          "text": [
            "256496\n"
          ]
        },
        {
          "output_type": "stream",
          "name": "stderr",
          "text": [
            "\n"
          ]
        }
      ]
    },
    {
      "cell_type": "code",
      "source": [
        "# train test split\n",
        "X_train, X_test = train_test_split(\n",
        "    X,test_size=0.2, random_state=42)"
      ],
      "metadata": {
        "id": "W8Cx5_8KMHQV"
      },
      "execution_count": null,
      "outputs": []
    },
    {
      "cell_type": "code",
      "source": [
        "# https://machinelearningmastery.com/lstm-autoencoders/\n"
      ],
      "metadata": {
        "id": "ryAhNtZ-qRqS"
      },
      "execution_count": null,
      "outputs": []
    },
    {
      "cell_type": "code",
      "source": [
        "# some parameters\n",
        "X.shape\n",
        "steps= X.shape[1]\n",
        "feature_size = X.shape[2]\n",
        "latent_size = 250\n",
        "\n"
      ],
      "metadata": {
        "id": "GsRc1967vC3h"
      },
      "execution_count": null,
      "outputs": []
    },
    {
      "cell_type": "code",
      "source": [
        "# models\n",
        "# encoder aspect\n",
        "model = Sequential()\n",
        "model.add(LSTM(latent_size, input_shape=(steps, feature_size), return_sequences=False))\n",
        "model.add(RepeatVector(steps))\n",
        "\n",
        "# decoder aspect\n",
        "model.add(LSTM (latent_size, return_sequences= True))\n",
        "model.add (TimeDistributed(Dense(feature_size)))\n",
        "\n",
        "model.compile(optimizer='adam', loss='mse')\n",
        "\n",
        "model.summary()\n",
        "\n"
      ],
      "metadata": {
        "colab": {
          "base_uri": "https://localhost:8080/"
        },
        "id": "AuqSz6vovWNB",
        "outputId": "ecc8feec-7e1b-4301-d058-267948aa9250"
      },
      "execution_count": null,
      "outputs": [
        {
          "output_type": "stream",
          "name": "stdout",
          "text": [
            "Model: \"sequential_4\"\n",
            "_________________________________________________________________\n",
            " Layer (type)                Output Shape              Param #   \n",
            "=================================================================\n",
            " lstm_8 (LSTM)               (None, 250)               252000    \n",
            "                                                                 \n",
            " repeat_vector_4 (RepeatVec  (None, 50, 250)           0         \n",
            " tor)                                                            \n",
            "                                                                 \n",
            " lstm_9 (LSTM)               (None, 50, 250)           501000    \n",
            "                                                                 \n",
            " time_distributed_4 (TimeDi  (None, 50, 1)             251       \n",
            " stributed)                                                      \n",
            "                                                                 \n",
            "=================================================================\n",
            "Total params: 753251 (2.87 MB)\n",
            "Trainable params: 753251 (2.87 MB)\n",
            "Non-trainable params: 0 (0.00 Byte)\n",
            "_________________________________________________________________\n"
          ]
        }
      ]
    },
    {
      "cell_type": "code",
      "source": [
        "model.fit(X_train, X_train, epochs=10, batch_size=128, validation_split = 0.2)"
      ],
      "metadata": {
        "colab": {
          "base_uri": "https://localhost:8080/"
        },
        "id": "rTqsBWxz2wCF",
        "outputId": "57adef87-1e3f-4d70-89d8-bd98f63d0a73"
      },
      "execution_count": null,
      "outputs": [
        {
          "output_type": "stream",
          "name": "stdout",
          "text": [
            "Epoch 1/10\n",
            "1/1 [==============================] - 10s 10s/step - loss: 46123264.0000 - val_loss: 41117692.0000\n",
            "Epoch 2/10\n",
            "1/1 [==============================] - 0s 134ms/step - loss: 46108336.0000 - val_loss: 41105664.0000\n",
            "Epoch 3/10\n",
            "1/1 [==============================] - 0s 85ms/step - loss: 46094908.0000 - val_loss: 41095160.0000\n",
            "Epoch 4/10\n",
            "1/1 [==============================] - 0s 104ms/step - loss: 46083344.0000 - val_loss: 41086200.0000\n",
            "Epoch 5/10\n",
            "1/1 [==============================] - 0s 64ms/step - loss: 46073660.0000 - val_loss: 41078288.0000\n",
            "Epoch 6/10\n",
            "1/1 [==============================] - 0s 54ms/step - loss: 46065304.0000 - val_loss: 41070832.0000\n",
            "Epoch 7/10\n",
            "1/1 [==============================] - 0s 48ms/step - loss: 46057544.0000 - val_loss: 41063484.0000\n",
            "Epoch 8/10\n",
            "1/1 [==============================] - 0s 52ms/step - loss: 46049916.0000 - val_loss: 41056232.0000\n",
            "Epoch 9/10\n",
            "1/1 [==============================] - 0s 47ms/step - loss: 46042332.0000 - val_loss: 41049192.0000\n",
            "Epoch 10/10\n",
            "1/1 [==============================] - 0s 49ms/step - loss: 46034944.0000 - val_loss: 41042436.0000\n"
          ]
        },
        {
          "output_type": "execute_result",
          "data": {
            "text/plain": [
              "<keras.src.callbacks.History at 0x7b08f852e890>"
            ]
          },
          "metadata": {},
          "execution_count": 90
        }
      ]
    },
    {
      "cell_type": "code",
      "source": [
        "# visualizing the model\n",
        "plot_model(model, show_shapes=True, to_file='lstm_autoencoder.png')"
      ],
      "metadata": {
        "colab": {
          "base_uri": "https://localhost:8080/",
          "height": 533
        },
        "id": "euoA9FZy58WU",
        "outputId": "e7dbe079-7535-4ed9-b6e6-94c68b1e0b97"
      },
      "execution_count": null,
      "outputs": [
        {
          "output_type": "execute_result",
          "data": {
            "image/png": "[encoded data removed]",
            "text/plain": [
              "<IPython.core.display.Image object>"
            ]
          },
          "metadata": {},
          "execution_count": 91
        }
      ]
    },
    {
      "cell_type": "code",
      "source": [
        "def ids_to_text(sequence, id_to_word):\n",
        "  return ' '.join([id_to_word.get(id, '<UNK>') for id in sequence])\n",
        "\n",
        "# compraring to sample of test data\n",
        "test_data= X_test[:2,:,:]\n",
        "\n",
        "\n",
        "# Make predictions\n",
        "predicted_sequences = model.predict(test_data)\n",
        "\n",
        "\n",
        "# Convert predictions back to text\n",
        "for i, sequence in enumerate(predicted_sequences):\n",
        "    tokens = ids_to_tokens(sequence)\n",
        "\n",
        "    predicted_text = tokens_to_string(tokens)\n",
        "\n",
        "    original_tokens = ids_to_tokens(df_copy['code_tokenIDs'].iloc[i])\n",
        "    original_text = tokens_to_string(original_tokens)\n",
        "\n",
        "    print(f\"Original: {original_text}\")\n",
        "    print(f\"Predicted: {predicted_text}\\n\")\n",
        "\n",
        "for i, sequence in enumerate(predicted_sequences):\n",
        "\n",
        "    tokens = ids_to_tokens(sequence)\n",
        "\n",
        "    # converting tokens to a single string\n",
        "    predicted_text = tokens_to_string(tokens)\n",
        "\n",
        "    original_tokens = ids_to_tokens(df_copy['code_tokenIDs'].iloc[i])\n",
        "    original_text = tokens_to_string(original_tokens)\n",
        "\n",
        "    print(f\"Original: {original_text}\")\n",
        "    print(f\"Predicted: {predicted_text}\\n\")\n"
      ],
      "metadata": {
        "colab": {
          "base_uri": "https://localhost:8080/"
        },
        "id": "20J3rsS38M4q",
        "outputId": "49459be2-8dfd-46d8-bd87-952726a1eb15"
      },
      "execution_count": null,
      "outputs": [
        {
          "output_type": "stream",
          "name": "stderr",
          "text": [
            "WARNING:tensorflow:5 out of the last 8 calls to <function Model.make_predict_function.<locals>.predict_function at 0x7b08f8157250> triggered tf.function retracing. Tracing is expensive and the excessive number of tracings could be due to (1) creating @tf.function repeatedly in a loop, (2) passing tensors with different shapes, (3) passing Python objects instead of tensors. For (1), please define your @tf.function outside of the loop. For (2), @tf.function has reduce_retracing=True option that can avoid unnecessary retracing. For (3), please refer to https://www.tensorflow.org/guide/function#controlling_retracing and https://www.tensorflow.org/api_docs/python/tf/function for  more details.\n"
          ]
        },
        {
          "output_type": "stream",
          "name": "stdout",
          "text": [
            "1/1 [==============================] - 1s 936ms/step\n",
            "Original: package org. bouncycastle. jcajce. provider. asymmetric. dsa ; import java. security. InvalidAlgorithmParameterException ; import java. security. InvalidParameterException ; import java. security. KeyPair ; import java. security. SecureRandom ; import java. security. spec. AlgorithmParameterSpec ; import java. security. spec. DSAParameterSpec ; import org. bouncycastle. crypto. AsymmetricCipherKeyPair ; import org. bouncycastle. crypto. generators. DSAKeyPairGenerator ; import org. bouncycastle. crypto. generators. DSAParametersGenerator ; import org. bouncycastle. crypto. params. DSAKeyGenerationParameters ; import org. bouncycastle. crypto. params. DSAParameters ; import org. bouncycastle. crypto. params. DSAPrivateKeyParameters ; import org. bouncycastle. crypto. params. DSAPublicKeyParameters ; public class KeyPairGeneratorSpi extends java. security. KeyPairGenerator { DSAKeyGenerationParameters param ; DSAKeyPairGenerator engine = new DSAKeyPairGenerator ( ) ; int strength = 1024 ; int certainty = 20 ; SecureRandom random = new SecureRandom ( ) ; boolean initialised = false ; public KeyPairGeneratorSpi ( ) { super ( \" DSA \" ) ; } public void initialize ( int strength, SecureRandom random ) { if ( strength < 512 | | strength > 4096 | | ( ( strength < 1024 ) & & strength % 64! = 0 ) | | ( strength > = 1024 & & strength % 1024! = 0 ) ) { throw new InvalidParameterException ( \" strength must be from 512 - 4096 and a multiple of 1024 above 1024 \" ) ; } this. strength = strength ; this. random = random ; } public void initialize ( AlgorithmParameterSpec params, SecureRandom random ) throws InvalidAlgorithmParameterException { if (! ( params instanceof DSAParameterSpec ) ) { throw new InvalidAlgorithmParameterException ( \" parameter object not a DSAParameterSpec \" ) ; } DSAParameterSpec dsaParams = ( DSAParameterSpec ) params ; param = new DSAKeyGenerationParameters ( random, new DSAParameters ( dsaParams. getP ( ), dsaParams. getQ ( ), dsaParams. getG ( ) ) ) ; engine. init ( param ) ; initialised = true ; } public KeyPair generateKeyPair ( ) { if (! initialised ) { DSAParametersGenerator pGen = new DSAParametersGenerator ( ) ; pGen. init ( strength, certainty, random ) ; param = new DSAKeyGenerationParameters ( random, pGen. generateParameters ( ) ) ; engine. init ( param ) ; initialised = true ; } AsymmetricCipherKeyPair pair = engine. generateKeyPair ( ) ; DSAPublicKeyParameters pub = ( DSAPublicKeyParameters ) pair. getPublic ( ) ; DSAPrivateKeyParameters priv = ( DSAPrivateKeyParameters ) pair. getPrivate ( ) ; return new KeyPair ( new BCDSAPublicKey ( pub ), new BCDSAPrivateKey ( priv ) ) ; } }\n",
            "Predicted: [unused5] [unused10] [unused13] [unused15] [unused15] [unused15] [unused15] [unused15] [unused15] [unused15] [unused15] [unused15] [unused15] [unused15] [unused15] [unused15] [unused15] [unused15] [unused15] [unused15] [unused15] [unused15] [unused15] [unused15] [unused15] [unused15] [unused15] [unused15] [unused15] [unused15] [unused15] [unused15] [unused15] [unused15] [unused15] [unused15] [unused15] [unused15] [unused15] [unused15] [unused15] [unused15] [unused15] [unused15] [unused15] [unused15] [unused15] [unused15] [unused15] [unused15]\n",
            "\n",
            "Original: <? php / * * * ownCloud - user _ ldap * * @ author Dominik Schmidt * @ copyright 2011 Dominik Schmidt dev @ dominik - schmidt. de * * This library is free software ; you can redistribute it and / or * modify it under the terms of the GNU AFFERO GENERAL PUBLIC LICENSE * License as published by the Free Software Foundation ; either * version 3 of the License, or any later version. * * This library is distributed in the hope that it will be useful, * but WITHOUT ANY WARRANTY ; without even the implied warranty of * MERCHANTABILITY or FITNESS FOR A PARTICULAR PURPOSE. See the * GNU AFFERO GENERAL PUBLIC LICENSE for more details. * * You should have received a copy of the GNU Affero General Public * License along with this library. If not, see < http : / / www. gnu. org / licenses / >. * * / $ params = array ( ' ldap _ host ', ' ldap _ port ', ' ldap _ dn ', ' ldap _ agent _ password ', ' ldap _ base ', ' ldap _ base _ users ', ' ldap _ base _ groups ', ' ldap _ userlist _ filter ', ' ldap _ login _ filter ', ' ldap _ group _ filter ', ' ldap _ display _ name ', ' ldap _ group _ display _ name ', ' ldap _ tls ', ' ldap _ turn _ off _ cert _ check ', ' ldap _ nocase ', ' ldap _ quota _ def ', ' ldap _ quota _ attr ', ' ldap _ email _ attr ', ' ldap _ group _ member _ assoc _ attribute ', ' ldap _ cache _ ttl ', ' home _ folder _ naming _ rule ' ) ; OCP \\ Util : : addscript ( ' user _ ldap ', ' settings ' ) ; OCP \\ Util : : addstyle ( ' user _ ldap ', ' settings ' ) ; if ( $ _ POST ) { $ clearCache = false ; foreach ( $ params as $ param ) { if ( isset ( $ _ POST [ $ param ] ) ) { $ clearCache = true ; if ( ' ldap _ agent _ password ' = = $ param ) { OCP \\ Config : : setAppValue ( ' user _ ldap ', $ param, base64 _ encode ( $ _ POST [ $ param ] ) ) ; } elseif ( ' home _ folder _ naming _ rule ' = = $ param ) { $ value = empty ( $ _ POST [ $ param ] )? ' opt : username ' : ' attr : '. $ _ POST [ $ param ] ; OCP \\ Config : : setAppValue ( ' user _ ldap ', $ param, $ value ) ; } else { OCP \\ Config : : setAppValue ( ' user _ ldap ', $ param, $ _ POST [ $ param ] ) ; } } elseif ( ' ldap _ tls ' = = $ param ) { / / unchecked checkboxes are not included in the post paramters OCP \\ Config : : setAppValue ( ' user _ ldap ', $ param, 0 ) ; } elseif ( ' ldap _ nocase ' = = $ param ) { OCP \\ Config : : setAppValue ( ' user _ ldap ', $ param, 0 ) ; } elseif ( ' ldap _ turn _ off _ cert _ check ' = = $ param ) { OCP \\ Config : : setAppValue ( ' user _ ldap ', $ param, 0 ) ; } } if ( $ clearCache ) { $ ldap = new \\ OCA \\ user _ ldap \\ lib \\ Connection ( ' user _ ldap ' ) ; $ ldap - > clearCache ( ) ; } } / / fill template $ tmpl = new OCP \\ Template ( ' user _ ldap ', ' settings ' ) ; foreach ( $ params as $ param ) { $ value = OCP \\ Config : : getAppValue ( ' user _ ldap ', $ param, ' ' ) ; $ tmpl - > assign ( $ param, $ value ) ; } / / settings with default values $ tmpl - > assign ( ' ldap _ port ', OCP \\ Config : : getAppValue ( ' user _ ldap ', ' ldap _ port ', ' 389 ' ) ) ; $ tmpl - > assign ( ' ldap _ display _ name ', OCP \\ Config : : getAppValue ( ' user _ ldap ', ' ldap _ display _ name ', ' uid ' ) ) ; $ tmpl - > assign ( ' ldap _ group _ display _ name ', OCP \\ Config : : getAppValue ( ' user _ ldap ', ' ldap _ group _ display _ name ', ' cn ' ) ) ; $ tmpl - > assign ( ' ldap _ group _ member _ assoc _ attribute ', OCP \\ Config : : getAppValue ( ' user _ ldap ', ' ldap _ group _ member _ assoc _ attribute ', ' uniqueMember ' ) ) ; $ tmpl - > assign ( ' ldap _ agent _ password ', base64 _ decode ( OCP \\ Config : : getAppValue ( ' user _ ldap ', ' ldap _ agent _ password ' ) ) ) ; $ tmpl - > assign ( ' ldap _ cache _ ttl ', OCP \\ Config : : getAppValue ( ' user _ ldap ', ' ldap _ cache _ ttl ', ' 600 ' ) ) ; $ hfnr = OCP \\ Config : : getAppValue ( ' user _ ldap ', ' home _ folder _ naming _ rule ', ' opt : username ' ) ; $ hfnr = ( $ hfnr = = ' opt : username ' )? ' ' : substr ( $ hfnr, strlen ( ' attr : ' ) ) ; $ tmpl - > assign ( ' home _ folder _ naming _ rule ', $ hfnr, ' ' ) ; return $ tmpl - > fetchPage ( ) ;\n",
            "Predicted: [unused6] [unused11] [unused14] [unused15] [unused16] [unused16] [unused16] [unused16] [unused16] [unused16] [unused16] [unused16] [unused16] [unused16] [unused16] [unused16] [unused16] [unused16] [unused16] [unused16] [unused16] [unused16] [unused16] [unused16] [unused16] [unused16] [unused16] [unused16] [unused16] [unused16] [unused16] [unused16] [unused16] [unused16] [unused16] [unused16] [unused16] [unused16] [unused16] [unused16] [unused16] [unused16] [unused16] [unused16] [unused16] [unused16] [unused16] [unused16] [unused16] [unused16]\n",
            "\n",
            "Original: package org. bouncycastle. jcajce. provider. asymmetric. dsa ; import java. security. InvalidAlgorithmParameterException ; import java. security. InvalidParameterException ; import java. security. KeyPair ; import java. security. SecureRandom ; import java. security. spec. AlgorithmParameterSpec ; import java. security. spec. DSAParameterSpec ; import org. bouncycastle. crypto. AsymmetricCipherKeyPair ; import org. bouncycastle. crypto. generators. DSAKeyPairGenerator ; import org. bouncycastle. crypto. generators. DSAParametersGenerator ; import org. bouncycastle. crypto. params. DSAKeyGenerationParameters ; import org. bouncycastle. crypto. params. DSAParameters ; import org. bouncycastle. crypto. params. DSAPrivateKeyParameters ; import org. bouncycastle. crypto. params. DSAPublicKeyParameters ; public class KeyPairGeneratorSpi extends java. security. KeyPairGenerator { DSAKeyGenerationParameters param ; DSAKeyPairGenerator engine = new DSAKeyPairGenerator ( ) ; int strength = 1024 ; int certainty = 20 ; SecureRandom random = new SecureRandom ( ) ; boolean initialised = false ; public KeyPairGeneratorSpi ( ) { super ( \" DSA \" ) ; } public void initialize ( int strength, SecureRandom random ) { if ( strength < 512 | | strength > 4096 | | ( ( strength < 1024 ) & & strength % 64! = 0 ) | | ( strength > = 1024 & & strength % 1024! = 0 ) ) { throw new InvalidParameterException ( \" strength must be from 512 - 4096 and a multiple of 1024 above 1024 \" ) ; } this. strength = strength ; this. random = random ; } public void initialize ( AlgorithmParameterSpec params, SecureRandom random ) throws InvalidAlgorithmParameterException { if (! ( params instanceof DSAParameterSpec ) ) { throw new InvalidAlgorithmParameterException ( \" parameter object not a DSAParameterSpec \" ) ; } DSAParameterSpec dsaParams = ( DSAParameterSpec ) params ; param = new DSAKeyGenerationParameters ( random, new DSAParameters ( dsaParams. getP ( ), dsaParams. getQ ( ), dsaParams. getG ( ) ) ) ; engine. init ( param ) ; initialised = true ; } public KeyPair generateKeyPair ( ) { if (! initialised ) { DSAParametersGenerator pGen = new DSAParametersGenerator ( ) ; pGen. init ( strength, certainty, random ) ; param = new DSAKeyGenerationParameters ( random, pGen. generateParameters ( ) ) ; engine. init ( param ) ; initialised = true ; } AsymmetricCipherKeyPair pair = engine. generateKeyPair ( ) ; DSAPublicKeyParameters pub = ( DSAPublicKeyParameters ) pair. getPublic ( ) ; DSAPrivateKeyParameters priv = ( DSAPrivateKeyParameters ) pair. getPrivate ( ) ; return new KeyPair ( new BCDSAPublicKey ( pub ), new BCDSAPrivateKey ( priv ) ) ; } }\n",
            "Predicted: [unused5] [unused10] [unused13] [unused15] [unused15] [unused15] [unused15] [unused15] [unused15] [unused15] [unused15] [unused15] [unused15] [unused15] [unused15] [unused15] [unused15] [unused15] [unused15] [unused15] [unused15] [unused15] [unused15] [unused15] [unused15] [unused15] [unused15] [unused15] [unused15] [unused15] [unused15] [unused15] [unused15] [unused15] [unused15] [unused15] [unused15] [unused15] [unused15] [unused15] [unused15] [unused15] [unused15] [unused15] [unused15] [unused15] [unused15] [unused15] [unused15] [unused15]\n",
            "\n",
            "Original: <? php / * * * ownCloud - user _ ldap * * @ author Dominik Schmidt * @ copyright 2011 Dominik Schmidt dev @ dominik - schmidt. de * * This library is free software ; you can redistribute it and / or * modify it under the terms of the GNU AFFERO GENERAL PUBLIC LICENSE * License as published by the Free Software Foundation ; either * version 3 of the License, or any later version. * * This library is distributed in the hope that it will be useful, * but WITHOUT ANY WARRANTY ; without even the implied warranty of * MERCHANTABILITY or FITNESS FOR A PARTICULAR PURPOSE. See the * GNU AFFERO GENERAL PUBLIC LICENSE for more details. * * You should have received a copy of the GNU Affero General Public * License along with this library. If not, see < http : / / www. gnu. org / licenses / >. * * / $ params = array ( ' ldap _ host ', ' ldap _ port ', ' ldap _ dn ', ' ldap _ agent _ password ', ' ldap _ base ', ' ldap _ base _ users ', ' ldap _ base _ groups ', ' ldap _ userlist _ filter ', ' ldap _ login _ filter ', ' ldap _ group _ filter ', ' ldap _ display _ name ', ' ldap _ group _ display _ name ', ' ldap _ tls ', ' ldap _ turn _ off _ cert _ check ', ' ldap _ nocase ', ' ldap _ quota _ def ', ' ldap _ quota _ attr ', ' ldap _ email _ attr ', ' ldap _ group _ member _ assoc _ attribute ', ' ldap _ cache _ ttl ', ' home _ folder _ naming _ rule ' ) ; OCP \\ Util : : addscript ( ' user _ ldap ', ' settings ' ) ; OCP \\ Util : : addstyle ( ' user _ ldap ', ' settings ' ) ; if ( $ _ POST ) { $ clearCache = false ; foreach ( $ params as $ param ) { if ( isset ( $ _ POST [ $ param ] ) ) { $ clearCache = true ; if ( ' ldap _ agent _ password ' = = $ param ) { OCP \\ Config : : setAppValue ( ' user _ ldap ', $ param, base64 _ encode ( $ _ POST [ $ param ] ) ) ; } elseif ( ' home _ folder _ naming _ rule ' = = $ param ) { $ value = empty ( $ _ POST [ $ param ] )? ' opt : username ' : ' attr : '. $ _ POST [ $ param ] ; OCP \\ Config : : setAppValue ( ' user _ ldap ', $ param, $ value ) ; } else { OCP \\ Config : : setAppValue ( ' user _ ldap ', $ param, $ _ POST [ $ param ] ) ; } } elseif ( ' ldap _ tls ' = = $ param ) { / / unchecked checkboxes are not included in the post paramters OCP \\ Config : : setAppValue ( ' user _ ldap ', $ param, 0 ) ; } elseif ( ' ldap _ nocase ' = = $ param ) { OCP \\ Config : : setAppValue ( ' user _ ldap ', $ param, 0 ) ; } elseif ( ' ldap _ turn _ off _ cert _ check ' = = $ param ) { OCP \\ Config : : setAppValue ( ' user _ ldap ', $ param, 0 ) ; } } if ( $ clearCache ) { $ ldap = new \\ OCA \\ user _ ldap \\ lib \\ Connection ( ' user _ ldap ' ) ; $ ldap - > clearCache ( ) ; } } / / fill template $ tmpl = new OCP \\ Template ( ' user _ ldap ', ' settings ' ) ; foreach ( $ params as $ param ) { $ value = OCP \\ Config : : getAppValue ( ' user _ ldap ', $ param, ' ' ) ; $ tmpl - > assign ( $ param, $ value ) ; } / / settings with default values $ tmpl - > assign ( ' ldap _ port ', OCP \\ Config : : getAppValue ( ' user _ ldap ', ' ldap _ port ', ' 389 ' ) ) ; $ tmpl - > assign ( ' ldap _ display _ name ', OCP \\ Config : : getAppValue ( ' user _ ldap ', ' ldap _ display _ name ', ' uid ' ) ) ; $ tmpl - > assign ( ' ldap _ group _ display _ name ', OCP \\ Config : : getAppValue ( ' user _ ldap ', ' ldap _ group _ display _ name ', ' cn ' ) ) ; $ tmpl - > assign ( ' ldap _ group _ member _ assoc _ attribute ', OCP \\ Config : : getAppValue ( ' user _ ldap ', ' ldap _ group _ member _ assoc _ attribute ', ' uniqueMember ' ) ) ; $ tmpl - > assign ( ' ldap _ agent _ password ', base64 _ decode ( OCP \\ Config : : getAppValue ( ' user _ ldap ', ' ldap _ agent _ password ' ) ) ) ; $ tmpl - > assign ( ' ldap _ cache _ ttl ', OCP \\ Config : : getAppValue ( ' user _ ldap ', ' ldap _ cache _ ttl ', ' 600 ' ) ) ; $ hfnr = OCP \\ Config : : getAppValue ( ' user _ ldap ', ' home _ folder _ naming _ rule ', ' opt : username ' ) ; $ hfnr = ( $ hfnr = = ' opt : username ' )? ' ' : substr ( $ hfnr, strlen ( ' attr : ' ) ) ; $ tmpl - > assign ( ' home _ folder _ naming _ rule ', $ hfnr, ' ' ) ; return $ tmpl - > fetchPage ( ) ;\n",
            "Predicted: [unused6] [unused11] [unused14] [unused15] [unused16] [unused16] [unused16] [unused16] [unused16] [unused16] [unused16] [unused16] [unused16] [unused16] [unused16] [unused16] [unused16] [unused16] [unused16] [unused16] [unused16] [unused16] [unused16] [unused16] [unused16] [unused16] [unused16] [unused16] [unused16] [unused16] [unused16] [unused16] [unused16] [unused16] [unused16] [unused16] [unused16] [unused16] [unused16] [unused16] [unused16] [unused16] [unused16] [unused16] [unused16] [unused16] [unused16] [unused16] [unused16] [unused16]\n",
            "\n"
          ]
        }
      ]
    },
    {
      "cell_type": "code",
      "source": [],
      "metadata": {
        "id": "K2sfdAFAKK_a"
      },
      "execution_count": null,
      "outputs": []
    }
  ]
}